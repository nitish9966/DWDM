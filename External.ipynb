{
  "nbformat": 4,
  "nbformat_minor": 0,
  "metadata": {
    "colab": {
      "provenance": [],
      "authorship_tag": "ABX9TyMk2Of4TvPeREc0rGc4RbF/",
      "include_colab_link": true
    },
    "kernelspec": {
      "name": "python3",
      "display_name": "Python 3"
    },
    "language_info": {
      "name": "python"
    }
  },
  "cells": [
    {
      "cell_type": "markdown",
      "metadata": {
        "id": "view-in-github",
        "colab_type": "text"
      },
      "source": [
        "<a href=\"https://colab.research.google.com/github/nitish9966/DWDM/blob/main/External.ipynb\" target=\"_parent\"><img src=\"https://colab.research.google.com/assets/colab-badge.svg\" alt=\"Open In Colab\"/></a>"
      ]
    },
    {
      "cell_type": "code",
      "execution_count": 1,
      "metadata": {
        "id": "8GcSyHJLfEn9"
      },
      "outputs": [],
      "source": [
        "import numpy as np\n",
        "import pandas as pd\n",
        "import matplotlib.pyplot as plot"
      ]
    },
    {
      "cell_type": "code",
      "source": [
        "data=pd.read_csv('student.csv')\n",
        "print(data.head())"
      ],
      "metadata": {
        "colab": {
          "base_uri": "https://localhost:8080/"
        },
        "id": "qo9V1vUnfj6G",
        "outputId": "3c481ed4-bc50-4246-d2c4-b01be2d0ce68"
      },
      "execution_count": 2,
      "outputs": [
        {
          "output_type": "stream",
          "name": "stdout",
          "text": [
            "   Roll No Gender Section  SSC Percentage  inter_Diploma_percentage  \\\n",
            "0        1      M       A            87.3                      65.3   \n",
            "1        2      F       A            89.0                      92.4   \n",
            "2        3      F       A            67.0                      68.0   \n",
            "3        4      M       A            71.0                      70.4   \n",
            "4        5      M       A             NaN                      65.5   \n",
            "\n",
            "   B.Tech_percentage  Backlogs registered_for_ Placement_Training  \\\n",
            "0              40.00        18                                 NO   \n",
            "1              71.45         0                                yes   \n",
            "2              45.26        13                                yes   \n",
            "3              36.47        17                                yes   \n",
            "4              42.52        17                                yes   \n",
            "\n",
            "  placement status  \n",
            "0       Not placed  \n",
            "1           Placed  \n",
            "2       Not placed  \n",
            "3       Not placed  \n",
            "4       Not placed  \n"
          ]
        }
      ]
    },
    {
      "cell_type": "code",
      "source": [
        "data=pd.DataFrame(data)"
      ],
      "metadata": {
        "id": "Y0uInGCbguEV"
      },
      "execution_count": 7,
      "outputs": []
    },
    {
      "cell_type": "code",
      "source": [
        "X_data=data.drop('placement status',axis=1).values\n",
        "Y_data=data['placement status'].values\n",
        "print(X_data)"
      ],
      "metadata": {
        "id": "P6QcOBynf7AT"
      },
      "execution_count": null,
      "outputs": []
    },
    {
      "cell_type": "code",
      "source": [
        "print(Y_data)"
      ],
      "metadata": {
        "colab": {
          "base_uri": "https://localhost:8080/"
        },
        "id": "etkAO6GshDZI",
        "outputId": "15f0431e-81be-4bfc-95a8-557b7e979276"
      },
      "execution_count": 12,
      "outputs": [
        {
          "output_type": "stream",
          "name": "stdout",
          "text": [
            "['Not placed' 'Placed' 'Not placed' 'Not placed' 'Not placed' 'Not placed'\n",
            " 'Not placed' 'Not placed' 'Not placed' 'Not placed' 'Placed' 'Not placed'\n",
            " 'Not placed' 'Placed' 'Not placed' 'Placed' 'Not placed' 'Placed'\n",
            " 'Placed' 'Placed' 'Placed' 'Not placed' 'Not placed' 'Not placed'\n",
            " 'Not placed' 'Not placed' 'Not placed' 'Not placed' 'Not placed' 'Placed'\n",
            " 'Placed' 'Not placed' 'Placed' 'Not placed' 'Not placed' 'Placed'\n",
            " 'Placed' 'Placed' 'Not placed' 'Not placed' 'Placed' 'Not placed'\n",
            " 'Not placed' 'Not placed' 'Not placed' 'Placed' 'Placed' 'Not placed'\n",
            " 'Not placed' 'Placed' 'Placed' 'Not placed' 'Not placed' 'Placed'\n",
            " 'Not placed' 'Placed' 'Not placed' 'Not placed' 'Placed' 'Placed'\n",
            " 'Not placed' 'Placed' 'Not placed' 'Not placed' 'Placed' 'Placed'\n",
            " 'Placed' 'Placed' 'Not placed' 'Not placed' 'Placed' 'Not placed'\n",
            " 'Not placed' 'Placed' 'Not placed' 'Not placed' 'Not placed' 'Not placed'\n",
            " 'Not placed' 'Not placed' 'Not placed' 'Placed' 'Placed' 'Not placed'\n",
            " 'Placed' 'Placed' 'Not placed' 'Not placed' 'Not placed' 'Not placed'\n",
            " 'Not placed' 'Not placed' 'Not placed' 'Not placed' 'Placed' 'Not placed'\n",
            " 'Placed' 'Not placed' 'Placed' 'Not placed' 'Not placed' 'Placed'\n",
            " 'Placed' 'Not placed' 'Not placed' 'Not placed' 'Not placed' 'Not placed'\n",
            " 'Not placed' 'Not placed' 'Not placed' 'Not placed' 'Not placed'\n",
            " 'Not placed' 'Not placed' 'Not placed' 'Not placed']\n"
          ]
        }
      ]
    },
    {
      "cell_type": "code",
      "source": [
        "missing=data.isnull().sum()\n",
        "print(missing)"
      ],
      "metadata": {
        "colab": {
          "base_uri": "https://localhost:8080/"
        },
        "id": "6U-wlhd_hG7j",
        "outputId": "1f29077e-faf9-4afc-d546-c7fbfbf94bf3"
      },
      "execution_count": 13,
      "outputs": [
        {
          "output_type": "stream",
          "name": "stdout",
          "text": [
            "Roll No                               0\n",
            "Gender                                0\n",
            "Section                               0\n",
            "SSC Percentage                        1\n",
            "inter_Diploma_percentage              0\n",
            "B.Tech_percentage                     0\n",
            "Backlogs                              0\n",
            "registered_for_ Placement_Training    1\n",
            "placement status                      0\n",
            "dtype: int64\n"
          ]
        }
      ]
    },
    {
      "cell_type": "code",
      "source": [
        "#Removing the missing values and null values\n",
        "data_clean=data.dropna()\n",
        "print(data_clean.head())"
      ],
      "metadata": {
        "colab": {
          "base_uri": "https://localhost:8080/"
        },
        "id": "OhvPbOdwiXQa",
        "outputId": "26e465e1-5350-4a51-d081-798a0a49ed0a"
      },
      "execution_count": 14,
      "outputs": [
        {
          "output_type": "stream",
          "name": "stdout",
          "text": [
            "   Roll No Gender Section  SSC Percentage  inter_Diploma_percentage  \\\n",
            "0        1      M       A           87.30                      65.3   \n",
            "1        2      F       A           89.00                      92.4   \n",
            "2        3      F       A           67.00                      68.0   \n",
            "3        4      M       A           71.00                      70.4   \n",
            "5        6      M       A           81.26                      68.0   \n",
            "\n",
            "   B.Tech_percentage  Backlogs registered_for_ Placement_Training  \\\n",
            "0              40.00        18                                 NO   \n",
            "1              71.45         0                                yes   \n",
            "2              45.26        13                                yes   \n",
            "3              36.47        17                                yes   \n",
            "5              62.20         6                                yes   \n",
            "\n",
            "  placement status  \n",
            "0       Not placed  \n",
            "1           Placed  \n",
            "2       Not placed  \n",
            "3       Not placed  \n",
            "5       Not placed  \n"
          ]
        }
      ]
    },
    {
      "cell_type": "code",
      "source": [
        "removed_missing=data_clean.isnull().sum()\n",
        "print(removed_missing)"
      ],
      "metadata": {
        "colab": {
          "base_uri": "https://localhost:8080/"
        },
        "id": "7BhGhf67ilyf",
        "outputId": "a75c0b18-f1a8-4124-f8e5-825fcec1ac34"
      },
      "execution_count": 15,
      "outputs": [
        {
          "output_type": "stream",
          "name": "stdout",
          "text": [
            "Roll No                               0\n",
            "Gender                                0\n",
            "Section                               0\n",
            "SSC Percentage                        0\n",
            "inter_Diploma_percentage              0\n",
            "B.Tech_percentage                     0\n",
            "Backlogs                              0\n",
            "registered_for_ Placement_Training    0\n",
            "placement status                      0\n",
            "dtype: int64\n"
          ]
        }
      ]
    },
    {
      "cell_type": "code",
      "source": [
        "from sklearn.preprocessing import LabelEncoder\n",
        "label=LabelEncoder()\n",
        "data_clean['num_placement_training']=label.fit_transform(data_clean['registered_for_ Placement_Training'])\n",
        "print(data_clean.head())"
      ],
      "metadata": {
        "colab": {
          "base_uri": "https://localhost:8080/"
        },
        "id": "WCYvdZbFj1bL",
        "outputId": "2ae29ffe-cf19-4e83-b3ac-7839cd44c861"
      },
      "execution_count": 16,
      "outputs": [
        {
          "output_type": "stream",
          "name": "stdout",
          "text": [
            "   Roll No Gender Section  SSC Percentage  inter_Diploma_percentage  \\\n",
            "0        1      M       A           87.30                      65.3   \n",
            "1        2      F       A           89.00                      92.4   \n",
            "2        3      F       A           67.00                      68.0   \n",
            "3        4      M       A           71.00                      70.4   \n",
            "5        6      M       A           81.26                      68.0   \n",
            "\n",
            "   B.Tech_percentage  Backlogs registered_for_ Placement_Training  \\\n",
            "0              40.00        18                                 NO   \n",
            "1              71.45         0                                yes   \n",
            "2              45.26        13                                yes   \n",
            "3              36.47        17                                yes   \n",
            "5              62.20         6                                yes   \n",
            "\n",
            "  placement status  num_placement_training  \n",
            "0       Not placed                       0  \n",
            "1           Placed                       1  \n",
            "2       Not placed                       1  \n",
            "3       Not placed                       1  \n",
            "5       Not placed                       1  \n"
          ]
        },
        {
          "output_type": "stream",
          "name": "stderr",
          "text": [
            "<ipython-input-16-39fc1fc2eea9>:3: SettingWithCopyWarning: \n",
            "A value is trying to be set on a copy of a slice from a DataFrame.\n",
            "Try using .loc[row_indexer,col_indexer] = value instead\n",
            "\n",
            "See the caveats in the documentation: https://pandas.pydata.org/pandas-docs/stable/user_guide/indexing.html#returning-a-view-versus-a-copy\n",
            "  data_clean['num_placement_training']=label.fit_transform(data_clean['registered_for_ Placement_Training'])\n"
          ]
        }
      ]
    },
    {
      "cell_type": "code",
      "source": [
        "label=LabelEncoder()\n",
        "data_clean['num_gender']=label.fit_transform(data_clean['Gender'])\n"
      ],
      "metadata": {
        "colab": {
          "base_uri": "https://localhost:8080/"
        },
        "id": "ojFzrApAlwGT",
        "outputId": "cc48f03a-5f2f-4f57-8326-6cf14556bb30"
      },
      "execution_count": 19,
      "outputs": [
        {
          "output_type": "stream",
          "name": "stderr",
          "text": [
            "<ipython-input-19-f0f5f5e712ef>:2: SettingWithCopyWarning: \n",
            "A value is trying to be set on a copy of a slice from a DataFrame.\n",
            "Try using .loc[row_indexer,col_indexer] = value instead\n",
            "\n",
            "See the caveats in the documentation: https://pandas.pydata.org/pandas-docs/stable/user_guide/indexing.html#returning-a-view-versus-a-copy\n",
            "  data_clean['num_gender']=label.fit_transform(data_clean['Gender'])\n"
          ]
        }
      ]
    },
    {
      "cell_type": "code",
      "source": [
        "X_d=data_clean.select_dtypes(include=['number'])\n",
        "print(X_d)"
      ],
      "metadata": {
        "colab": {
          "base_uri": "https://localhost:8080/"
        },
        "id": "Jk34SnHRmHfY",
        "outputId": "ae39d8ef-7fd1-42c4-b1f3-9cbefa16ad1b"
      },
      "execution_count": 34,
      "outputs": [
        {
          "output_type": "stream",
          "name": "stdout",
          "text": [
            "     Roll No  SSC Percentage  inter_Diploma_percentage  B.Tech_percentage  \\\n",
            "0          1           87.30                     65.30              40.00   \n",
            "1          2           89.00                     92.40              71.45   \n",
            "2          3           67.00                     68.00              45.26   \n",
            "3          4           71.00                     70.40              36.47   \n",
            "5          6           81.26                     68.00              62.20   \n",
            "..       ...             ...                       ...                ...   \n",
            "112      113           81.10                     78.60              35.84   \n",
            "113      114           81.30                     85.12              68.50   \n",
            "114      115           83.50                     89.90              76.30   \n",
            "115      116           85.50                     90.63              74.50   \n",
            "116      117           80.00                     83.33              65.53   \n",
            "\n",
            "     Backlogs  num_placement_training  num_gender  \n",
            "0          18                       0           1  \n",
            "1           0                       1           0  \n",
            "2          13                       1           0  \n",
            "3          17                       1           1  \n",
            "5           6                       1           1  \n",
            "..        ...                     ...         ...  \n",
            "112        16                       0           1  \n",
            "113         0                       0           1  \n",
            "114         0                       0           1  \n",
            "115         0                       0           1  \n",
            "116         0                       0           1  \n",
            "\n",
            "[115 rows x 7 columns]\n"
          ]
        }
      ]
    },
    {
      "cell_type": "code",
      "source": [
        "Y_d=data_clean['placement status'].values"
      ],
      "metadata": {
        "id": "ZBCI4hIfogI3"
      },
      "execution_count": 36,
      "outputs": []
    },
    {
      "cell_type": "code",
      "source": [
        "data_clean['num_placement_status']=label.fit_transform(data_clean['placement status'])"
      ],
      "metadata": {
        "colab": {
          "base_uri": "https://localhost:8080/"
        },
        "id": "jGN1_EocqjB-",
        "outputId": "a8a0ea5a-a01d-4eba-b308-f14bb17f59de"
      },
      "execution_count": 40,
      "outputs": [
        {
          "output_type": "stream",
          "name": "stderr",
          "text": [
            "<ipython-input-40-1c6e1e61fb49>:1: SettingWithCopyWarning: \n",
            "A value is trying to be set on a copy of a slice from a DataFrame.\n",
            "Try using .loc[row_indexer,col_indexer] = value instead\n",
            "\n",
            "See the caveats in the documentation: https://pandas.pydata.org/pandas-docs/stable/user_guide/indexing.html#returning-a-view-versus-a-copy\n",
            "  data_clean['num_placement_status']=label.fit_transform(data_clean['placement status'])\n"
          ]
        }
      ]
    },
    {
      "cell_type": "code",
      "source": [
        "Y_da=data_clean['num_placement_status'].values"
      ],
      "metadata": {
        "id": "bvMuVNhjq_Lf"
      },
      "execution_count": 41,
      "outputs": []
    },
    {
      "cell_type": "code",
      "source": [
        "from sklearn.preprocessing import StandardScaler\n",
        "scaler=StandardScaler()\n",
        "X=scaler.fit_transform(X_d)"
      ],
      "metadata": {
        "id": "eO1YtKfOk27m"
      },
      "execution_count": 29,
      "outputs": []
    },
    {
      "cell_type": "code",
      "source": [
        "from sklearn.model_selection import train_test_split\n",
        "\n",
        "X_train,X_test,Y_train,Y_test=train_test_split(X_d,Y_da,test_size=0.3,random_state=42)"
      ],
      "metadata": {
        "id": "pW_1uDr3nvhL"
      },
      "execution_count": 42,
      "outputs": []
    },
    {
      "cell_type": "markdown",
      "source": [
        "#LinearRegression\n",
        "Experiment-4"
      ],
      "metadata": {
        "id": "nQwKXpzhqBQc"
      }
    },
    {
      "cell_type": "code",
      "source": [
        "#Linear Regression\n",
        "from sklearn.linear_model import LinearRegression\n",
        "\n",
        "model=LinearRegression()\n",
        "model.fit(X_train,Y_train)"
      ],
      "metadata": {
        "colab": {
          "base_uri": "https://localhost:8080/",
          "height": 74
        },
        "id": "7oFjCzkBo4MF",
        "outputId": "61c90a23-4109-4ebe-f9e3-95479187032c"
      },
      "execution_count": 43,
      "outputs": [
        {
          "output_type": "execute_result",
          "data": {
            "text/plain": [
              "LinearRegression()"
            ],
            "text/html": [
              "<style>#sk-container-id-1 {color: black;background-color: white;}#sk-container-id-1 pre{padding: 0;}#sk-container-id-1 div.sk-toggleable {background-color: white;}#sk-container-id-1 label.sk-toggleable__label {cursor: pointer;display: block;width: 100%;margin-bottom: 0;padding: 0.3em;box-sizing: border-box;text-align: center;}#sk-container-id-1 label.sk-toggleable__label-arrow:before {content: \"▸\";float: left;margin-right: 0.25em;color: #696969;}#sk-container-id-1 label.sk-toggleable__label-arrow:hover:before {color: black;}#sk-container-id-1 div.sk-estimator:hover label.sk-toggleable__label-arrow:before {color: black;}#sk-container-id-1 div.sk-toggleable__content {max-height: 0;max-width: 0;overflow: hidden;text-align: left;background-color: #f0f8ff;}#sk-container-id-1 div.sk-toggleable__content pre {margin: 0.2em;color: black;border-radius: 0.25em;background-color: #f0f8ff;}#sk-container-id-1 input.sk-toggleable__control:checked~div.sk-toggleable__content {max-height: 200px;max-width: 100%;overflow: auto;}#sk-container-id-1 input.sk-toggleable__control:checked~label.sk-toggleable__label-arrow:before {content: \"▾\";}#sk-container-id-1 div.sk-estimator input.sk-toggleable__control:checked~label.sk-toggleable__label {background-color: #d4ebff;}#sk-container-id-1 div.sk-label input.sk-toggleable__control:checked~label.sk-toggleable__label {background-color: #d4ebff;}#sk-container-id-1 input.sk-hidden--visually {border: 0;clip: rect(1px 1px 1px 1px);clip: rect(1px, 1px, 1px, 1px);height: 1px;margin: -1px;overflow: hidden;padding: 0;position: absolute;width: 1px;}#sk-container-id-1 div.sk-estimator {font-family: monospace;background-color: #f0f8ff;border: 1px dotted black;border-radius: 0.25em;box-sizing: border-box;margin-bottom: 0.5em;}#sk-container-id-1 div.sk-estimator:hover {background-color: #d4ebff;}#sk-container-id-1 div.sk-parallel-item::after {content: \"\";width: 100%;border-bottom: 1px solid gray;flex-grow: 1;}#sk-container-id-1 div.sk-label:hover label.sk-toggleable__label {background-color: #d4ebff;}#sk-container-id-1 div.sk-serial::before {content: \"\";position: absolute;border-left: 1px solid gray;box-sizing: border-box;top: 0;bottom: 0;left: 50%;z-index: 0;}#sk-container-id-1 div.sk-serial {display: flex;flex-direction: column;align-items: center;background-color: white;padding-right: 0.2em;padding-left: 0.2em;position: relative;}#sk-container-id-1 div.sk-item {position: relative;z-index: 1;}#sk-container-id-1 div.sk-parallel {display: flex;align-items: stretch;justify-content: center;background-color: white;position: relative;}#sk-container-id-1 div.sk-item::before, #sk-container-id-1 div.sk-parallel-item::before {content: \"\";position: absolute;border-left: 1px solid gray;box-sizing: border-box;top: 0;bottom: 0;left: 50%;z-index: -1;}#sk-container-id-1 div.sk-parallel-item {display: flex;flex-direction: column;z-index: 1;position: relative;background-color: white;}#sk-container-id-1 div.sk-parallel-item:first-child::after {align-self: flex-end;width: 50%;}#sk-container-id-1 div.sk-parallel-item:last-child::after {align-self: flex-start;width: 50%;}#sk-container-id-1 div.sk-parallel-item:only-child::after {width: 0;}#sk-container-id-1 div.sk-dashed-wrapped {border: 1px dashed gray;margin: 0 0.4em 0.5em 0.4em;box-sizing: border-box;padding-bottom: 0.4em;background-color: white;}#sk-container-id-1 div.sk-label label {font-family: monospace;font-weight: bold;display: inline-block;line-height: 1.2em;}#sk-container-id-1 div.sk-label-container {text-align: center;}#sk-container-id-1 div.sk-container {/* jupyter's `normalize.less` sets `[hidden] { display: none; }` but bootstrap.min.css set `[hidden] { display: none !important; }` so we also need the `!important` here to be able to override the default hidden behavior on the sphinx rendered scikit-learn.org. See: https://github.com/scikit-learn/scikit-learn/issues/21755 */display: inline-block !important;position: relative;}#sk-container-id-1 div.sk-text-repr-fallback {display: none;}</style><div id=\"sk-container-id-1\" class=\"sk-top-container\"><div class=\"sk-text-repr-fallback\"><pre>LinearRegression()</pre><b>In a Jupyter environment, please rerun this cell to show the HTML representation or trust the notebook. <br />On GitHub, the HTML representation is unable to render, please try loading this page with nbviewer.org.</b></div><div class=\"sk-container\" hidden><div class=\"sk-item\"><div class=\"sk-estimator sk-toggleable\"><input class=\"sk-toggleable__control sk-hidden--visually\" id=\"sk-estimator-id-1\" type=\"checkbox\" checked><label for=\"sk-estimator-id-1\" class=\"sk-toggleable__label sk-toggleable__label-arrow\">LinearRegression</label><div class=\"sk-toggleable__content\"><pre>LinearRegression()</pre></div></div></div></div></div>"
            ]
          },
          "metadata": {},
          "execution_count": 43
        }
      ]
    },
    {
      "cell_type": "code",
      "source": [
        "y_pred=model.predict(X_test)"
      ],
      "metadata": {
        "id": "n1CosLeerN_6"
      },
      "execution_count": 45,
      "outputs": []
    },
    {
      "cell_type": "code",
      "source": [
        "from sklearn.metrics import mean_squared_error,r2_score\n",
        "\n",
        "mse=mean_squared_error(Y_test,y_pred)\n",
        "r2=r2_score(Y_test,y_pred)"
      ],
      "metadata": {
        "id": "zb3j4DYqrbUW"
      },
      "execution_count": 55,
      "outputs": []
    },
    {
      "cell_type": "code",
      "source": [
        "print(\"Mean Squared Error: \",mse)\n",
        "print(\"r2 score: \",r2)"
      ],
      "metadata": {
        "colab": {
          "base_uri": "https://localhost:8080/"
        },
        "id": "NDQFt4far3if",
        "outputId": "7e583506-f94b-432b-8f77-75f5b2676037"
      },
      "execution_count": 52,
      "outputs": [
        {
          "output_type": "stream",
          "name": "stdout",
          "text": [
            "Mean Squared Error:  0.13828704678905315\n",
            "r2 score:  0.32239347073363955\n"
          ]
        }
      ]
    },
    {
      "cell_type": "markdown",
      "source": [
        "#DecisionTree Classifier\n",
        "Experiment-5"
      ],
      "metadata": {
        "id": "iHFKOYhOsc3A"
      }
    },
    {
      "cell_type": "code",
      "source": [
        "from sklearn.tree import DecisionTreeClassifier\n",
        "tree=DecisionTreeClassifier(random_state=42)\n",
        "\n",
        "tree.fit(X_train,Y_train)"
      ],
      "metadata": {
        "colab": {
          "base_uri": "https://localhost:8080/",
          "height": 74
        },
        "id": "6V2vzru8sLVr",
        "outputId": "b4e322d1-cc0a-488e-af48-3da8087671c4"
      },
      "execution_count": 57,
      "outputs": [
        {
          "output_type": "execute_result",
          "data": {
            "text/plain": [
              "DecisionTreeClassifier(random_state=42)"
            ],
            "text/html": [
              "<style>#sk-container-id-2 {color: black;background-color: white;}#sk-container-id-2 pre{padding: 0;}#sk-container-id-2 div.sk-toggleable {background-color: white;}#sk-container-id-2 label.sk-toggleable__label {cursor: pointer;display: block;width: 100%;margin-bottom: 0;padding: 0.3em;box-sizing: border-box;text-align: center;}#sk-container-id-2 label.sk-toggleable__label-arrow:before {content: \"▸\";float: left;margin-right: 0.25em;color: #696969;}#sk-container-id-2 label.sk-toggleable__label-arrow:hover:before {color: black;}#sk-container-id-2 div.sk-estimator:hover label.sk-toggleable__label-arrow:before {color: black;}#sk-container-id-2 div.sk-toggleable__content {max-height: 0;max-width: 0;overflow: hidden;text-align: left;background-color: #f0f8ff;}#sk-container-id-2 div.sk-toggleable__content pre {margin: 0.2em;color: black;border-radius: 0.25em;background-color: #f0f8ff;}#sk-container-id-2 input.sk-toggleable__control:checked~div.sk-toggleable__content {max-height: 200px;max-width: 100%;overflow: auto;}#sk-container-id-2 input.sk-toggleable__control:checked~label.sk-toggleable__label-arrow:before {content: \"▾\";}#sk-container-id-2 div.sk-estimator input.sk-toggleable__control:checked~label.sk-toggleable__label {background-color: #d4ebff;}#sk-container-id-2 div.sk-label input.sk-toggleable__control:checked~label.sk-toggleable__label {background-color: #d4ebff;}#sk-container-id-2 input.sk-hidden--visually {border: 0;clip: rect(1px 1px 1px 1px);clip: rect(1px, 1px, 1px, 1px);height: 1px;margin: -1px;overflow: hidden;padding: 0;position: absolute;width: 1px;}#sk-container-id-2 div.sk-estimator {font-family: monospace;background-color: #f0f8ff;border: 1px dotted black;border-radius: 0.25em;box-sizing: border-box;margin-bottom: 0.5em;}#sk-container-id-2 div.sk-estimator:hover {background-color: #d4ebff;}#sk-container-id-2 div.sk-parallel-item::after {content: \"\";width: 100%;border-bottom: 1px solid gray;flex-grow: 1;}#sk-container-id-2 div.sk-label:hover label.sk-toggleable__label {background-color: #d4ebff;}#sk-container-id-2 div.sk-serial::before {content: \"\";position: absolute;border-left: 1px solid gray;box-sizing: border-box;top: 0;bottom: 0;left: 50%;z-index: 0;}#sk-container-id-2 div.sk-serial {display: flex;flex-direction: column;align-items: center;background-color: white;padding-right: 0.2em;padding-left: 0.2em;position: relative;}#sk-container-id-2 div.sk-item {position: relative;z-index: 1;}#sk-container-id-2 div.sk-parallel {display: flex;align-items: stretch;justify-content: center;background-color: white;position: relative;}#sk-container-id-2 div.sk-item::before, #sk-container-id-2 div.sk-parallel-item::before {content: \"\";position: absolute;border-left: 1px solid gray;box-sizing: border-box;top: 0;bottom: 0;left: 50%;z-index: -1;}#sk-container-id-2 div.sk-parallel-item {display: flex;flex-direction: column;z-index: 1;position: relative;background-color: white;}#sk-container-id-2 div.sk-parallel-item:first-child::after {align-self: flex-end;width: 50%;}#sk-container-id-2 div.sk-parallel-item:last-child::after {align-self: flex-start;width: 50%;}#sk-container-id-2 div.sk-parallel-item:only-child::after {width: 0;}#sk-container-id-2 div.sk-dashed-wrapped {border: 1px dashed gray;margin: 0 0.4em 0.5em 0.4em;box-sizing: border-box;padding-bottom: 0.4em;background-color: white;}#sk-container-id-2 div.sk-label label {font-family: monospace;font-weight: bold;display: inline-block;line-height: 1.2em;}#sk-container-id-2 div.sk-label-container {text-align: center;}#sk-container-id-2 div.sk-container {/* jupyter's `normalize.less` sets `[hidden] { display: none; }` but bootstrap.min.css set `[hidden] { display: none !important; }` so we also need the `!important` here to be able to override the default hidden behavior on the sphinx rendered scikit-learn.org. See: https://github.com/scikit-learn/scikit-learn/issues/21755 */display: inline-block !important;position: relative;}#sk-container-id-2 div.sk-text-repr-fallback {display: none;}</style><div id=\"sk-container-id-2\" class=\"sk-top-container\"><div class=\"sk-text-repr-fallback\"><pre>DecisionTreeClassifier(random_state=42)</pre><b>In a Jupyter environment, please rerun this cell to show the HTML representation or trust the notebook. <br />On GitHub, the HTML representation is unable to render, please try loading this page with nbviewer.org.</b></div><div class=\"sk-container\" hidden><div class=\"sk-item\"><div class=\"sk-estimator sk-toggleable\"><input class=\"sk-toggleable__control sk-hidden--visually\" id=\"sk-estimator-id-2\" type=\"checkbox\" checked><label for=\"sk-estimator-id-2\" class=\"sk-toggleable__label sk-toggleable__label-arrow\">DecisionTreeClassifier</label><div class=\"sk-toggleable__content\"><pre>DecisionTreeClassifier(random_state=42)</pre></div></div></div></div></div>"
            ]
          },
          "metadata": {},
          "execution_count": 57
        }
      ]
    },
    {
      "cell_type": "code",
      "source": [
        "y_p=tree.predict(X_test)"
      ],
      "metadata": {
        "id": "hAIIUQXNvMhh"
      },
      "execution_count": 58,
      "outputs": []
    },
    {
      "cell_type": "code",
      "source": [
        "from sklearn.metrics import accuracy_score\n",
        "\n",
        "acc=accuracy_score(Y_test,y_p)\n",
        "print(\"Accuracy Score: \",acc)"
      ],
      "metadata": {
        "colab": {
          "base_uri": "https://localhost:8080/"
        },
        "id": "DaGrcOmJvFIf",
        "outputId": "83891c09-4d19-4ddb-f2aa-f4a56d6f1b06"
      },
      "execution_count": 59,
      "outputs": [
        {
          "output_type": "stream",
          "name": "stdout",
          "text": [
            "Accuracy Score:  0.7142857142857143\n"
          ]
        }
      ]
    },
    {
      "cell_type": "markdown",
      "source": [
        "#Naive Bayes\n",
        "Experiment-6"
      ],
      "metadata": {
        "id": "QocZbOESvxeF"
      }
    },
    {
      "cell_type": "code",
      "source": [
        "from sklearn.naive_bayes import GaussianNB\n",
        "\n",
        "bayes=GaussianNB()\n",
        "bayes.fit(X_train,Y_train)"
      ],
      "metadata": {
        "colab": {
          "base_uri": "https://localhost:8080/",
          "height": 74
        },
        "id": "PJqA2sDcwGRi",
        "outputId": "1af1ee02-752b-4b3b-9ec1-9aec91f688de"
      },
      "execution_count": 61,
      "outputs": [
        {
          "output_type": "execute_result",
          "data": {
            "text/plain": [
              "GaussianNB()"
            ],
            "text/html": [
              "<style>#sk-container-id-3 {color: black;background-color: white;}#sk-container-id-3 pre{padding: 0;}#sk-container-id-3 div.sk-toggleable {background-color: white;}#sk-container-id-3 label.sk-toggleable__label {cursor: pointer;display: block;width: 100%;margin-bottom: 0;padding: 0.3em;box-sizing: border-box;text-align: center;}#sk-container-id-3 label.sk-toggleable__label-arrow:before {content: \"▸\";float: left;margin-right: 0.25em;color: #696969;}#sk-container-id-3 label.sk-toggleable__label-arrow:hover:before {color: black;}#sk-container-id-3 div.sk-estimator:hover label.sk-toggleable__label-arrow:before {color: black;}#sk-container-id-3 div.sk-toggleable__content {max-height: 0;max-width: 0;overflow: hidden;text-align: left;background-color: #f0f8ff;}#sk-container-id-3 div.sk-toggleable__content pre {margin: 0.2em;color: black;border-radius: 0.25em;background-color: #f0f8ff;}#sk-container-id-3 input.sk-toggleable__control:checked~div.sk-toggleable__content {max-height: 200px;max-width: 100%;overflow: auto;}#sk-container-id-3 input.sk-toggleable__control:checked~label.sk-toggleable__label-arrow:before {content: \"▾\";}#sk-container-id-3 div.sk-estimator input.sk-toggleable__control:checked~label.sk-toggleable__label {background-color: #d4ebff;}#sk-container-id-3 div.sk-label input.sk-toggleable__control:checked~label.sk-toggleable__label {background-color: #d4ebff;}#sk-container-id-3 input.sk-hidden--visually {border: 0;clip: rect(1px 1px 1px 1px);clip: rect(1px, 1px, 1px, 1px);height: 1px;margin: -1px;overflow: hidden;padding: 0;position: absolute;width: 1px;}#sk-container-id-3 div.sk-estimator {font-family: monospace;background-color: #f0f8ff;border: 1px dotted black;border-radius: 0.25em;box-sizing: border-box;margin-bottom: 0.5em;}#sk-container-id-3 div.sk-estimator:hover {background-color: #d4ebff;}#sk-container-id-3 div.sk-parallel-item::after {content: \"\";width: 100%;border-bottom: 1px solid gray;flex-grow: 1;}#sk-container-id-3 div.sk-label:hover label.sk-toggleable__label {background-color: #d4ebff;}#sk-container-id-3 div.sk-serial::before {content: \"\";position: absolute;border-left: 1px solid gray;box-sizing: border-box;top: 0;bottom: 0;left: 50%;z-index: 0;}#sk-container-id-3 div.sk-serial {display: flex;flex-direction: column;align-items: center;background-color: white;padding-right: 0.2em;padding-left: 0.2em;position: relative;}#sk-container-id-3 div.sk-item {position: relative;z-index: 1;}#sk-container-id-3 div.sk-parallel {display: flex;align-items: stretch;justify-content: center;background-color: white;position: relative;}#sk-container-id-3 div.sk-item::before, #sk-container-id-3 div.sk-parallel-item::before {content: \"\";position: absolute;border-left: 1px solid gray;box-sizing: border-box;top: 0;bottom: 0;left: 50%;z-index: -1;}#sk-container-id-3 div.sk-parallel-item {display: flex;flex-direction: column;z-index: 1;position: relative;background-color: white;}#sk-container-id-3 div.sk-parallel-item:first-child::after {align-self: flex-end;width: 50%;}#sk-container-id-3 div.sk-parallel-item:last-child::after {align-self: flex-start;width: 50%;}#sk-container-id-3 div.sk-parallel-item:only-child::after {width: 0;}#sk-container-id-3 div.sk-dashed-wrapped {border: 1px dashed gray;margin: 0 0.4em 0.5em 0.4em;box-sizing: border-box;padding-bottom: 0.4em;background-color: white;}#sk-container-id-3 div.sk-label label {font-family: monospace;font-weight: bold;display: inline-block;line-height: 1.2em;}#sk-container-id-3 div.sk-label-container {text-align: center;}#sk-container-id-3 div.sk-container {/* jupyter's `normalize.less` sets `[hidden] { display: none; }` but bootstrap.min.css set `[hidden] { display: none !important; }` so we also need the `!important` here to be able to override the default hidden behavior on the sphinx rendered scikit-learn.org. See: https://github.com/scikit-learn/scikit-learn/issues/21755 */display: inline-block !important;position: relative;}#sk-container-id-3 div.sk-text-repr-fallback {display: none;}</style><div id=\"sk-container-id-3\" class=\"sk-top-container\"><div class=\"sk-text-repr-fallback\"><pre>GaussianNB()</pre><b>In a Jupyter environment, please rerun this cell to show the HTML representation or trust the notebook. <br />On GitHub, the HTML representation is unable to render, please try loading this page with nbviewer.org.</b></div><div class=\"sk-container\" hidden><div class=\"sk-item\"><div class=\"sk-estimator sk-toggleable\"><input class=\"sk-toggleable__control sk-hidden--visually\" id=\"sk-estimator-id-3\" type=\"checkbox\" checked><label for=\"sk-estimator-id-3\" class=\"sk-toggleable__label sk-toggleable__label-arrow\">GaussianNB</label><div class=\"sk-toggleable__content\"><pre>GaussianNB()</pre></div></div></div></div></div>"
            ]
          },
          "metadata": {},
          "execution_count": 61
        }
      ]
    },
    {
      "cell_type": "code",
      "source": [
        "y_pre=bayes.predict(X_test)"
      ],
      "metadata": {
        "id": "NSGzXlzuyEhn"
      },
      "execution_count": 62,
      "outputs": []
    },
    {
      "cell_type": "code",
      "source": [
        "nav_acc=accuracy_score(Y_test,y_pre)\n",
        "print(\"Accuracy Score: \",nav_acc)"
      ],
      "metadata": {
        "colab": {
          "base_uri": "https://localhost:8080/"
        },
        "id": "Mor23N5KyLGM",
        "outputId": "29229ec1-ceba-49f3-d0e9-56c6bd83a364"
      },
      "execution_count": 63,
      "outputs": [
        {
          "output_type": "stream",
          "name": "stdout",
          "text": [
            "Accuracy Score:  0.7428571428571429\n"
          ]
        }
      ]
    },
    {
      "cell_type": "markdown",
      "source": [
        "#Apriori\n",
        "Experiment-7"
      ],
      "metadata": {
        "id": "x1b0F1RPyb-L"
      }
    },
    {
      "cell_type": "code",
      "source": [
        "from mlxtend.frequent_patterns import apriori\n",
        "from mlxtend.frequent_patterns import association_rules\n",
        "\n",
        "data=pd.read_csv('bucket.csv')\n",
        "print(data.head())"
      ],
      "metadata": {
        "colab": {
          "base_uri": "https://localhost:8080/"
        },
        "id": "sgYsInZh13wj",
        "outputId": "7916ad50-bc3f-4696-9af3-4d7e5083363a"
      },
      "execution_count": 88,
      "outputs": [
        {
          "output_type": "stream",
          "name": "stdout",
          "text": [
            "                        Products\n",
            "0             MILK,BREAD,BISCUIT\n",
            "1  BREAD,MILK,BISCUIT,CORNFLAKES\n",
            "2            BREAD,TEA,BOURNVITA\n",
            "3           JAM,MAGGI,BREAD,MILK\n",
            "4              MAGGI,TEA,BISCUIT\n"
          ]
        }
      ]
    },
    {
      "cell_type": "code",
      "source": [
        "import pandas as pd\n",
        "from mlxtend.frequent_patterns import apriori, association_rules\n",
        "\n",
        "# Read the CSV file into a DataFrame\n",
        "df = pd.read_csv('bucket.csv')\n",
        "df.head(3)\n",
        "\n",
        "# Convert the 'Products' column into transaction-encoded format\n",
        "encoded_data = df['Products'].str.get_dummies(sep=',')\n",
        "\n",
        "# Find frequent itemsets\n",
        "frequent_itemsets = apriori(encoded_data, min_support=0.05, use_colnames=True)\n",
        "\n",
        "# Find association rules\n",
        "rules = association_rules(frequent_itemsets, metric=\"lift\", min_threshold=1)\n",
        "\n",
        "# Sort rules by confidence and lift\n",
        "rules = rules.sort_values(['confidence', 'lift'], ascending=[False, False])\n",
        "\n",
        "print(\"Frequent Item Sets:\")\n",
        "print(frequent_itemsets.head())\n",
        "print(\"\\nAssociation Rules:\")\n",
        "print(rules.head())\n"
      ],
      "metadata": {
        "colab": {
          "base_uri": "https://localhost:8080/"
        },
        "id": "mLX8wXtY9ghf",
        "outputId": "1a7dd653-928b-42f0-da4c-14a03f1497c0"
      },
      "execution_count": 97,
      "outputs": [
        {
          "output_type": "stream",
          "name": "stdout",
          "text": [
            "Frequent Item Sets:\n",
            "   support     itemsets\n",
            "0     0.35    (BISCUIT)\n",
            "1     0.20  (BOURNVITA)\n",
            "2     0.65      (BREAD)\n",
            "3     0.15       (COCK)\n",
            "4     0.40     (COFFEE)\n",
            "\n",
            "Association Rules:\n",
            "              antecedents         consequents  antecedent support  \\\n",
            "170         (MAGGI, MILK)               (JAM)                0.05   \n",
            "184   (BREAD, CORNFLAKES)     (MILK, BISCUIT)                0.05   \n",
            "210    (COCK, CORNFLAKES)   (COFFEE, BISCUIT)                0.10   \n",
            "215     (COFFEE, BISCUIT)  (COCK, CORNFLAKES)                0.10   \n",
            "220  (BREAD, MAGGI, MILK)               (JAM)                0.05   \n",
            "\n",
            "     consequent support  support  confidence  lift  leverage  conviction  \\\n",
            "170                 0.1     0.05         1.0  10.0     0.045         inf   \n",
            "184                 0.1     0.05         1.0  10.0     0.045         inf   \n",
            "210                 0.1     0.10         1.0  10.0     0.090         inf   \n",
            "215                 0.1     0.10         1.0  10.0     0.090         inf   \n",
            "220                 0.1     0.05         1.0  10.0     0.045         inf   \n",
            "\n",
            "     zhangs_metric  \n",
            "170       0.947368  \n",
            "184       0.947368  \n",
            "210       1.000000  \n",
            "215       1.000000  \n",
            "220       0.947368  \n"
          ]
        }
      ]
    },
    {
      "cell_type": "markdown",
      "source": [
        "#KMeans Clustering\n",
        "Experiment-8"
      ],
      "metadata": {
        "id": "ZUg85reZ_my4"
      }
    },
    {
      "cell_type": "code",
      "source": [
        "from sklearn.cluster import KMeans\n",
        "\n",
        "d=pd.read_csv('cluster.csv')\n",
        "print(d.head())"
      ],
      "metadata": {
        "colab": {
          "base_uri": "https://localhost:8080/"
        },
        "id": "fNBeMX3bAJCV",
        "outputId": "6d00d6cd-694b-4763-dddb-055dc5aa3ae8"
      },
      "execution_count": 99,
      "outputs": [
        {
          "output_type": "stream",
          "name": "stdout",
          "text": [
            "                    Name  Gender  SSC Perc\\nentage  inter/Diplo0a perc  \\\n",
            "0        ARIGELA AVINASH       0              87.3                65.3   \n",
            "1     BALADARI KEERTHANA       1              89.0                92.4   \n",
            "2  BAVIRISETTI PRAVALIKA       1              67.0                68.0   \n",
            "3         BODDU SAI BABA       0              71.0                70.4   \n",
            "4     BONDAPALLISRINIVAS       0              67.0                65.5   \n",
            "\n",
            "   B.Tech perc  Back\\nlogs  \n",
            "0        40.00          18  \n",
            "1        71.45           0  \n",
            "2        45.26          13  \n",
            "3        36.47          17  \n",
            "4        42.52          17  \n"
          ]
        }
      ]
    },
    {
      "cell_type": "code",
      "source": [
        "cl=d.select_dtypes(include=['number'])\n",
        "print(cl.head())"
      ],
      "metadata": {
        "colab": {
          "base_uri": "https://localhost:8080/"
        },
        "id": "pXLQXdFaBU4G",
        "outputId": "71beda98-152e-4acb-ecb3-af85046993d7"
      },
      "execution_count": 101,
      "outputs": [
        {
          "output_type": "stream",
          "name": "stdout",
          "text": [
            "   Gender  SSC Perc\\nentage  inter/Diplo0a perc  B.Tech perc  Back\\nlogs\n",
            "0       0              87.3                65.3        40.00          18\n",
            "1       1              89.0                92.4        71.45           0\n",
            "2       1              67.0                68.0        45.26          13\n",
            "3       0              71.0                70.4        36.47          17\n",
            "4       0              67.0                65.5        42.52          17\n"
          ]
        }
      ]
    },
    {
      "cell_type": "code",
      "source": [
        "kmeans=KMeans(n_clusters=3)\n",
        "kmeans.fit(cl)"
      ],
      "metadata": {
        "colab": {
          "base_uri": "https://localhost:8080/",
          "height": 129
        },
        "id": "ZS8wkRVsB7QJ",
        "outputId": "25e874e1-d5a4-4c26-9996-0583ffccb4b7"
      },
      "execution_count": 104,
      "outputs": [
        {
          "output_type": "stream",
          "name": "stderr",
          "text": [
            "/usr/local/lib/python3.10/dist-packages/sklearn/cluster/_kmeans.py:870: FutureWarning: The default value of `n_init` will change from 10 to 'auto' in 1.4. Set the value of `n_init` explicitly to suppress the warning\n",
            "  warnings.warn(\n"
          ]
        },
        {
          "output_type": "execute_result",
          "data": {
            "text/plain": [
              "KMeans(n_clusters=3)"
            ],
            "text/html": [
              "<style>#sk-container-id-5 {color: black;background-color: white;}#sk-container-id-5 pre{padding: 0;}#sk-container-id-5 div.sk-toggleable {background-color: white;}#sk-container-id-5 label.sk-toggleable__label {cursor: pointer;display: block;width: 100%;margin-bottom: 0;padding: 0.3em;box-sizing: border-box;text-align: center;}#sk-container-id-5 label.sk-toggleable__label-arrow:before {content: \"▸\";float: left;margin-right: 0.25em;color: #696969;}#sk-container-id-5 label.sk-toggleable__label-arrow:hover:before {color: black;}#sk-container-id-5 div.sk-estimator:hover label.sk-toggleable__label-arrow:before {color: black;}#sk-container-id-5 div.sk-toggleable__content {max-height: 0;max-width: 0;overflow: hidden;text-align: left;background-color: #f0f8ff;}#sk-container-id-5 div.sk-toggleable__content pre {margin: 0.2em;color: black;border-radius: 0.25em;background-color: #f0f8ff;}#sk-container-id-5 input.sk-toggleable__control:checked~div.sk-toggleable__content {max-height: 200px;max-width: 100%;overflow: auto;}#sk-container-id-5 input.sk-toggleable__control:checked~label.sk-toggleable__label-arrow:before {content: \"▾\";}#sk-container-id-5 div.sk-estimator input.sk-toggleable__control:checked~label.sk-toggleable__label {background-color: #d4ebff;}#sk-container-id-5 div.sk-label input.sk-toggleable__control:checked~label.sk-toggleable__label {background-color: #d4ebff;}#sk-container-id-5 input.sk-hidden--visually {border: 0;clip: rect(1px 1px 1px 1px);clip: rect(1px, 1px, 1px, 1px);height: 1px;margin: -1px;overflow: hidden;padding: 0;position: absolute;width: 1px;}#sk-container-id-5 div.sk-estimator {font-family: monospace;background-color: #f0f8ff;border: 1px dotted black;border-radius: 0.25em;box-sizing: border-box;margin-bottom: 0.5em;}#sk-container-id-5 div.sk-estimator:hover {background-color: #d4ebff;}#sk-container-id-5 div.sk-parallel-item::after {content: \"\";width: 100%;border-bottom: 1px solid gray;flex-grow: 1;}#sk-container-id-5 div.sk-label:hover label.sk-toggleable__label {background-color: #d4ebff;}#sk-container-id-5 div.sk-serial::before {content: \"\";position: absolute;border-left: 1px solid gray;box-sizing: border-box;top: 0;bottom: 0;left: 50%;z-index: 0;}#sk-container-id-5 div.sk-serial {display: flex;flex-direction: column;align-items: center;background-color: white;padding-right: 0.2em;padding-left: 0.2em;position: relative;}#sk-container-id-5 div.sk-item {position: relative;z-index: 1;}#sk-container-id-5 div.sk-parallel {display: flex;align-items: stretch;justify-content: center;background-color: white;position: relative;}#sk-container-id-5 div.sk-item::before, #sk-container-id-5 div.sk-parallel-item::before {content: \"\";position: absolute;border-left: 1px solid gray;box-sizing: border-box;top: 0;bottom: 0;left: 50%;z-index: -1;}#sk-container-id-5 div.sk-parallel-item {display: flex;flex-direction: column;z-index: 1;position: relative;background-color: white;}#sk-container-id-5 div.sk-parallel-item:first-child::after {align-self: flex-end;width: 50%;}#sk-container-id-5 div.sk-parallel-item:last-child::after {align-self: flex-start;width: 50%;}#sk-container-id-5 div.sk-parallel-item:only-child::after {width: 0;}#sk-container-id-5 div.sk-dashed-wrapped {border: 1px dashed gray;margin: 0 0.4em 0.5em 0.4em;box-sizing: border-box;padding-bottom: 0.4em;background-color: white;}#sk-container-id-5 div.sk-label label {font-family: monospace;font-weight: bold;display: inline-block;line-height: 1.2em;}#sk-container-id-5 div.sk-label-container {text-align: center;}#sk-container-id-5 div.sk-container {/* jupyter's `normalize.less` sets `[hidden] { display: none; }` but bootstrap.min.css set `[hidden] { display: none !important; }` so we also need the `!important` here to be able to override the default hidden behavior on the sphinx rendered scikit-learn.org. See: https://github.com/scikit-learn/scikit-learn/issues/21755 */display: inline-block !important;position: relative;}#sk-container-id-5 div.sk-text-repr-fallback {display: none;}</style><div id=\"sk-container-id-5\" class=\"sk-top-container\"><div class=\"sk-text-repr-fallback\"><pre>KMeans(n_clusters=3)</pre><b>In a Jupyter environment, please rerun this cell to show the HTML representation or trust the notebook. <br />On GitHub, the HTML representation is unable to render, please try loading this page with nbviewer.org.</b></div><div class=\"sk-container\" hidden><div class=\"sk-item\"><div class=\"sk-estimator sk-toggleable\"><input class=\"sk-toggleable__control sk-hidden--visually\" id=\"sk-estimator-id-5\" type=\"checkbox\" checked><label for=\"sk-estimator-id-5\" class=\"sk-toggleable__label sk-toggleable__label-arrow\">KMeans</label><div class=\"sk-toggleable__content\"><pre>KMeans(n_clusters=3)</pre></div></div></div></div></div>"
            ]
          },
          "metadata": {},
          "execution_count": 104
        }
      ]
    },
    {
      "cell_type": "code",
      "source": [
        "labels=kmeans.predict(cl)"
      ],
      "metadata": {
        "id": "XaaLFRL_Co-2"
      },
      "execution_count": 105,
      "outputs": []
    },
    {
      "cell_type": "code",
      "source": [
        "plot.scatter(cl['B.Tech perc'],cl['Back\\nlogs'],c=labels)\n",
        "plot.xlabel(\"B.Tech percentage\")\n",
        "plot.ylabel(\"Backlogs\")\n",
        "plot.show()"
      ],
      "metadata": {
        "colab": {
          "base_uri": "https://localhost:8080/",
          "height": 449
        },
        "id": "t_PnF5iyC7x-",
        "outputId": "4fda8ea0-895c-4b09-dce7-49b7624bfe43"
      },
      "execution_count": 108,
      "outputs": [
        {
          "output_type": "display_data",
          "data": {
            "text/plain": [
              "<Figure size 640x480 with 1 Axes>"
            ],
            "image/png": "[encoded data removed]"
          },
          "metadata": {}
        }
      ]
    },
    {
      "cell_type": "markdown",
      "source": [
        "#Heirarichal Clustering\n",
        "Experiment-9"
      ],
      "metadata": {
        "id": "hXYQXLzSE9kb"
      }
    },
    {
      "cell_type": "code",
      "source": [
        "aglo=cl[['B.Tech perc','Back\\nlogs']]"
      ],
      "metadata": {
        "id": "vN-6lYBPIHfA"
      },
      "execution_count": 119,
      "outputs": []
    },
    {
      "cell_type": "code",
      "source": [
        "from sklearn.cluster import AgglomerativeClustering\n",
        "agg=AgglomerativeClustering(n_clusters=3,linkage='ward')\n",
        "\n",
        "label_agg=agg.fit_predict(aglo)"
      ],
      "metadata": {
        "id": "m_0AzFSNGtvv"
      },
      "execution_count": 133,
      "outputs": []
    },
    {
      "cell_type": "code",
      "source": [
        "plot.scatter(aglo['B.Tech perc'],aglo['Back\\nlogs'],c=label_agg)\n",
        "plot.show()"
      ],
      "metadata": {
        "colab": {
          "base_uri": "https://localhost:8080/",
          "height": 430
        },
        "id": "6S_IOR4QGpGV",
        "outputId": "27eb75b2-411e-4a7b-b30f-e39698ce0239"
      },
      "execution_count": 136,
      "outputs": [
        {
          "output_type": "display_data",
          "data": {
            "text/plain": [
              "<Figure size 640x480 with 1 Axes>"
            ],
            "image/png": "[encoded data removed]"
          },
          "metadata": {}
        }
      ]
    },
    {
      "cell_type": "markdown",
      "source": [
        "#DBSCAN\n",
        "Experiment-10"
      ],
      "metadata": {
        "id": "va6tUMU_KHXT"
      }
    },
    {
      "cell_type": "code",
      "source": [
        "from sklearn.cluster import DBSCAN\n",
        "\n",
        "db=DBSCAN(eps=0.5,min_samples=5)\n",
        "\n",
        "labels_db=db.fit(aglo)"
      ],
      "metadata": {
        "id": "qPS10FKzKKOP"
      },
      "execution_count": 140,
      "outputs": []
    },
    {
      "cell_type": "code",
      "source": [
        "print(labels_db)"
      ],
      "metadata": {
        "colab": {
          "base_uri": "https://localhost:8080/"
        },
        "id": "RHHALrxJLOui",
        "outputId": "916c35cd-9dea-4053-89dd-7f84c6a5a387"
      },
      "execution_count": 145,
      "outputs": [
        {
          "output_type": "stream",
          "name": "stdout",
          "text": [
            "DBSCAN()\n"
          ]
        }
      ]
    },
    {
      "cell_type": "code",
      "source": [
        "plot.scatter(aglo['B.Tech perc'],aglo['Back\\nlogs'],c=db.labels_)\n",
        "plot.show()"
      ],
      "metadata": {
        "colab": {
          "base_uri": "https://localhost:8080/",
          "height": 430
        },
        "id": "D7rT1WRlKd8M",
        "outputId": "5bf65d36-953e-4e34-9c2f-d5f4b49e55f1"
      },
      "execution_count": 144,
      "outputs": [
        {
          "output_type": "display_data",
          "data": {
            "text/plain": [
              "<Figure size 640x480 with 1 Axes>"
            ],
            "image/png": "[encoded data removed]"
          },
          "metadata": {}
        }
      ]
    }
  ]
}