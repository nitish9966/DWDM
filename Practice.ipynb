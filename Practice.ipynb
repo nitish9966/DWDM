{
  "cells": [
    {
      "cell_type": "markdown",
      "metadata": {
        "id": "view-in-github",
        "colab_type": "text"
      },
      "source": [
        "<a href=\"https://colab.research.google.com/github/nitish9966/DWDM/blob/main/Practice.ipynb\" target=\"_parent\"><img src=\"https://colab.research.google.com/assets/colab-badge.svg\" alt=\"Open In Colab\"/></a>"
      ]
    },
    {
      "cell_type": "code",
      "execution_count": 19,
      "metadata": {
        "id": "mh3xBgr5BxaU"
      },
      "outputs": [],
      "source": [
        "import pandas as pd\n",
        "import numpy as np\n",
        "import matplotlib.pyplot as plt"
      ]
    },
    {
      "cell_type": "markdown",
      "metadata": {
        "id": "pvpDUpjREO3v"
      },
      "source": [
        "Experiment:-1"
      ]
    },
    {
      "cell_type": "code",
      "execution_count": 117,
      "metadata": {
        "colab": {
          "base_uri": "https://localhost:8080/"
        },
        "id": "AQUqXkMoDIRO",
        "outputId": "18f9753c-4ec1-44ae-ce16-a1e139258902"
      },
      "outputs": [
        {
          "output_type": "stream",
          "name": "stdout",
          "text": [
            "      RM  LSTAT  PTRATIO      MEDV\n",
            "0  6.575   4.98     15.3  504000.0\n",
            "1  6.421   9.14     17.8  453600.0\n",
            "2  7.185   4.03     17.8  728700.0\n",
            "3  6.998   2.94     18.7  701400.0\n",
            "4  7.147   5.33     18.7  760200.0\n"
          ]
        }
      ],
      "source": [
        "data=pd.read_csv(\"housing.csv\")\n",
        "print(data.head())"
      ]
    },
    {
      "cell_type": "code",
      "execution_count": 118,
      "metadata": {
        "colab": {
          "base_uri": "https://localhost:8080/"
        },
        "id": "0vpl950PDTGU",
        "outputId": "bfcce0c4-4f97-42f6-d48d-77472e83f53d"
      },
      "outputs": [
        {
          "output_type": "stream",
          "name": "stdout",
          "text": [
            "[[ 6.575  4.98  15.3  ]\n",
            " [ 6.421  9.14  17.8  ]\n",
            " [ 7.185  4.03  17.8  ]\n",
            " ...\n",
            " [ 6.976  5.64  21.   ]\n",
            " [ 6.794  6.48  21.   ]\n",
            " [ 6.03   7.88  21.   ]]\n",
            "[ 504000.  453600.  728700.  701400.  760200.  602700.  480900.  569100.\n",
            "  346500.  396900.  315000.  396900.  455700.  428400.  382200.  417900.\n",
            "  485100.  367500.  424200.  382200.  285600.  411600.  319200.  304500.\n",
            "  327600.  291900.  348600.  310800.  386400.  441000.  266700.  304500.\n",
            "  277200.  275100.  283500.  396900.  420000.  441000.  518700.  646800.\n",
            "  732900.  558600.  531300.  518700.  445200.  405300.  420000.  348600.\n",
            "  302400.  407400.  413700.  430500.  525000.  491400.  396900.  743400.\n",
            "  518700.  663600.  489300.  411600.  392700.  336000.  466200.  525000.\n",
            "  693000.  493500.  407400.  462000.  365400.  438900.  508200.  455700.\n",
            "  478800.  491400.  506100.  449400.  420000.  436800.  445200.  426300.\n",
            "  588000.  501900.  520800.  480900.  501900.  558600.  472500.  466200.\n",
            "  495600.  602700.  474600.  462000.  480900.  525000.  432600.  596400.\n",
            "  449400.  812700.  919800.  697200.  577500.  556500.  390600.  405300.\n",
            "  422100.  409500.  409500.  428400.  415800.  407400.  455700.  478800.\n",
            "  394800.  392700.  388500.  384300.  445200.  403200.  428400.  405300.\n",
            "  462000.  426300.  430500.  363300.  394800.  449400.  329700.  340200.\n",
            "  378000.  300300.  403200.  411600.  483000.  386400.  327600.  380100.\n",
            "  365400.  359100.  279300.  373800.  294000.  302400.  281400.  327600.\n",
            "  247800.  289800.  327600.  306600.  373800.  323400.  451500.  411600.\n",
            "  321300.  407400.  357000.  327600.  275100.  867300.  510300.  489300.\n",
            "  567000.  476700.  525000.  499800.  499800.  468300.  365400.  401100.\n",
            "  485100.  495600.  474600.  617400.  487200.  516600.  627900.  781200.\n",
            "  835800.  760200.  795900.  682500.  554400.  621600.  672000.  625800.\n",
            "  732900.  777000.  640500.  764400.  653100.  611100.  699300.  636300.\n",
            "  726600.  732900.  690900.  506100.  888300. 1018500.  474600.  512400.\n",
            "  472500.  512400.  420000.  455700.  405300.  470400.  590100.  497700.\n",
            "  525000.  489300.  602700.  451500.  483000.  560700.  455700.  577500.\n",
            "  632100.  940800.  789600.  663600.  980700.  661500.  510300.  665700.\n",
            "  875700. 1014300.  609000.  504000.  527100.  661500.  497700.  489300.\n",
            "  462000.  422100.  466200.  497700.  369600.  388500.  510300.  430500.\n",
            "  514500.  550200.  512400.  520800.  621600.  898800.  459900.  438900.\n",
            "  924000.  756000.  632100.  709800.  905100. 1024800.  651000.  766500.\n",
            "  478800.  644700.  913500.  434700.  443100.  529200.  512400.  739200.\n",
            "  680400.  672000.  697200.  695100.  611100.  737100.  953400.  743400.\n",
            "  966000.  676200.  462000.  422100.  487200.  468300.  520800.  598500.\n",
            "  783300.  585900.  501900.  455700.  600600.  569100.  426300.  472500.\n",
            "  609000.  520800.  462000.  554400.  695100.  758100.  596400.  701400.\n",
            "  592200.  478800.  426300.  338100.  464100.  407400.  453600.  499800.\n",
            "  340200.  373800.  415800.  485100.  441000.  499800.  485100.  428400.\n",
            "  388500.  525000.  516600.  483000.  466200.  405300.  474600.  415800.\n",
            "  359100.  407400.  466200.  434700.  443100.  409500.  388500.  432600.\n",
            "  399000.  392700.  686700.  346500.  501900.  655200.  367500.  361200.\n",
            "  485100.  514500.  558600.  480900.  506100.  390600.  632100.  382200.\n",
            "  432600.  373800.  455700.  476700.  474600.  525000.  417900.  436800.\n",
            "  352800.  577500.  459900.  485100.  289800.  289800.  315000.  291900.\n",
            "  279300.  275100.  214200.  218400.  228900.  237300.  258300.  184800.\n",
            "  151200.  220500.  155400.  214200.  241500.  317100.  487200.  203700.\n",
            "  289800.  266700.  275100.  262500.  178500.  105000.  132300.  117600.\n",
            "  151200.  254100.  174300.  178500.  105000.  249900.  585900.  361200.\n",
            "  577500.  315000.  361200.  375900.  342300.  147000.  151200.  157500.\n",
            "  218400.  184800.  176400.  350700.  298200.  436800.  281400.  245700.\n",
            "  174300.  214200.  228900.  231000.  199500.  304500.  296100.  338100.\n",
            "  300300.  245700.  281400.  201600.  182700.  176400.  268800.  220500.\n",
            "  359100.  386400.  323400.  226800.  247800.  312900.  264600.  296100.\n",
            "  273000.  281400.  319200.  338100.  373800.  312900.  296100.  266700.\n",
            "  283500.  312900.  420000.  344400.  371700.  409500.  424200.  449400.\n",
            "  417900.  399000.  401100.  401100.  422100.  417900.  411600.  487200.\n",
            "  625800.  289800.  279300.  350700.  252000.  306600.  449400.  483000.\n",
            "  497700.  525000.  457800.  432600.  445200.  401100.  432600.  319200.\n",
            "  147000.  170100.  285600.  422100.  457800.  514500.  485100.  413700.\n",
            "  384300.  445200.  367500.  352800.  470400.  432600.  501900.  462000.\n",
            "  249900.]\n"
          ]
        }
      ],
      "source": [
        "independent=data.drop('MEDV',axis=1).values\n",
        "target=data['MEDV'].values\n",
        "print(independent)\n",
        "print(target)"
      ]
    },
    {
      "cell_type": "code",
      "execution_count": 119,
      "metadata": {
        "colab": {
          "base_uri": "https://localhost:8080/"
        },
        "id": "ruH2TKGYD_gR",
        "outputId": "c276cce3-22dc-4cff-cf1f-348db8be26b6"
      },
      "outputs": [
        {
          "output_type": "stream",
          "name": "stdout",
          "text": [
            "RM         0\n",
            "LSTAT      0\n",
            "PTRATIO    0\n",
            "MEDV       0\n",
            "dtype: int64\n"
          ]
        }
      ],
      "source": [
        "missing_values=data.isnull().sum()\n",
        "print(missing_values)"
      ]
    },
    {
      "cell_type": "markdown",
      "metadata": {
        "id": "EnmCaUzTEYiE"
      },
      "source": [
        "Experiment-2"
      ]
    },
    {
      "cell_type": "code",
      "execution_count": 120,
      "metadata": {
        "colab": {
          "base_uri": "https://localhost:8080/"
        },
        "id": "5cPqg-oLEa3w",
        "outputId": "68f33d9d-f404-400c-a32a-b43388cda693"
      },
      "outputs": [
        {
          "output_type": "stream",
          "name": "stdout",
          "text": [
            "         id diagnosis  radius_mean  ...  symmetry_worst  fractal_dimension_worst  Unnamed: 32\n",
            "0    842302         M        17.99  ...          0.4601                  0.11890          NaN\n",
            "1    842517         M        20.57  ...          0.2750                  0.08902          NaN\n",
            "2  84300903         M        19.69  ...          0.3613                  0.08758          NaN\n",
            "3  84348301         M        11.42  ...          0.6638                  0.17300          NaN\n",
            "4  84358402         M        20.29  ...          0.2364                  0.07678          NaN\n",
            "\n",
            "[5 rows x 33 columns]\n"
          ]
        }
      ],
      "source": [
        "data1=pd.read_csv(\"data.csv\")\n",
        "print(data1.head())"
      ]
    },
    {
      "cell_type": "code",
      "execution_count": 121,
      "metadata": {
        "colab": {
          "base_uri": "https://localhost:8080/"
        },
        "id": "egqjijlWHJGE",
        "outputId": "23be001b-0f6d-47bb-f049-2f3ffc0123f3"
      },
      "outputs": [
        {
          "output_type": "stream",
          "name": "stdout",
          "text": [
            "         id diagnosis  radius_mean  ...  fractal_dimension_worst  Unnamed: 32  radius_category\n",
            "0    842302         M        17.99  ...                  0.11890          NaN            10-20\n",
            "1    842517         M        20.57  ...                  0.08902          NaN            20-30\n",
            "2  84300903         M        19.69  ...                  0.08758          NaN            10-20\n",
            "3  84348301         M        11.42  ...                  0.17300          NaN            10-20\n",
            "4  84358402         M        20.29  ...                  0.07678          NaN            20-30\n",
            "\n",
            "[5 rows x 34 columns]\n"
          ]
        }
      ],
      "source": [
        "# dealing categorical data\n",
        "# Converting a numerical data into categorical data\n",
        "data1[\"radius_category\"]=pd.cut(data1[\"radius_mean\"],\n",
        "                                bins=[0,10,20,30,np.inf],\n",
        "                                labels=['0-10','10-20','20-30','>30'])\n",
        "print(data1.head())"
      ]
    },
    {
      "cell_type": "code",
      "execution_count": 122,
      "metadata": {
        "colab": {
          "base_uri": "https://localhost:8080/"
        },
        "id": "Su1poeLYSpfZ",
        "outputId": "83e0358e-0d68-4dba-9ef8-d03432e99990"
      },
      "outputs": [
        {
          "output_type": "stream",
          "name": "stdout",
          "text": [
            "0      1\n",
            "1      2\n",
            "2      1\n",
            "3      1\n",
            "4      2\n",
            "      ..\n",
            "564    2\n",
            "565    2\n",
            "566    1\n",
            "567    2\n",
            "568    0\n",
            "Name: category_num, Length: 569, dtype: int64\n",
            "         id diagnosis  radius_mean  ...  Unnamed: 32  radius_category  category_num\n",
            "0    842302         M        17.99  ...          NaN            10-20             1\n",
            "1    842517         M        20.57  ...          NaN            20-30             2\n",
            "2  84300903         M        19.69  ...          NaN            10-20             1\n",
            "3  84348301         M        11.42  ...          NaN            10-20             1\n",
            "4  84358402         M        20.29  ...          NaN            20-30             2\n",
            "\n",
            "[5 rows x 35 columns]\n"
          ]
        }
      ],
      "source": [
        "# Converting a categorical data into numerical data using LabelEncoder\n",
        "from sklearn.preprocessing import LabelEncoder\n",
        "label_encoder=LabelEncoder()\n",
        "data1[\"category_num\"]=label_encoder.fit_transform(data1['radius_category'])\n",
        "print(data1[\"category_num\"])\n",
        "print(data1.head())"
      ]
    },
    {
      "cell_type": "code",
      "execution_count": 123,
      "metadata": {
        "colab": {
          "base_uri": "https://localhost:8080/"
        },
        "id": "hdiRqe5mKqT_",
        "outputId": "8067cde3-67c8-4342-cb0d-fc12a73d49c9"
      },
      "outputs": [
        {
          "output_type": "stream",
          "name": "stdout",
          "text": [
            "[17.99  20.57  19.69  11.42  20.29  12.45  18.25  13.71  13.    12.46\n",
            " 16.02  15.78  19.17  15.85  13.73  14.54  14.68  16.13  19.81  13.54\n",
            " 13.08   9.504 15.34  21.16  16.65  17.14  14.58  18.61  15.3   17.57\n",
            " 18.63  11.84  17.02  19.27  16.13  16.74  14.25  13.03  14.99  13.48\n",
            " 13.44  10.95  19.07  13.28  13.17  18.65   8.196 13.17  12.05  13.49\n",
            " 11.76  13.64  11.94  18.22  15.1   11.52  19.21  14.71  13.05   8.618\n",
            " 10.17   8.598 14.25   9.173 12.68  14.78   9.465 11.31   9.029 12.78\n",
            " 18.94   8.888 17.2   13.8   12.31  16.07  13.53  18.05  20.18  12.86\n",
            " 11.45  13.34  25.22  19.1   12.    18.46  14.48  19.02  12.36  14.64\n",
            " 14.62  15.37  13.27  13.45  15.06  20.26  12.18   9.787 11.6   14.42\n",
            " 13.61   6.981 12.18   9.876 10.49  13.11  11.64  12.36  22.27  11.34\n",
            "  9.777 12.63  14.26  10.51   8.726 11.93   8.95  14.87  15.78  17.95\n",
            " 11.41  18.66  24.25  14.5   13.37  13.85  13.61  19.    15.1   19.79\n",
            " 12.19  15.46  16.16  15.71  18.45  12.77  11.71  11.43  14.95  11.28\n",
            "  9.738 16.11  11.43  12.9   10.75  11.9   11.8   14.95  14.44  13.74\n",
            " 13.     8.219  9.731 11.15  13.15  12.25  17.68  16.84  12.06  10.9\n",
            " 11.75  19.19  19.59  12.34  23.27  14.97  10.8   16.78  17.47  14.97\n",
            " 12.32  13.43  15.46  11.08  10.66   8.671  9.904 16.46  13.01  12.81\n",
            " 27.22  21.09  15.7   11.41  15.28  10.08  18.31  11.71  11.81  12.3\n",
            " 14.22  12.77   9.72  12.34  14.86  12.91  13.77  18.08  19.18  14.45\n",
            " 12.23  17.54  23.29  13.81  12.47  15.12   9.876 17.01  13.11  15.27\n",
            " 20.58  11.84  28.11  17.42  14.19  13.86  11.89  10.2   19.8   19.53\n",
            " 13.65  13.56  10.18  15.75  13.27  14.34  10.44  15.    12.62  12.83\n",
            " 17.05  11.32  11.22  20.51   9.567 14.03  23.21  20.48  14.22  17.46\n",
            " 13.64  12.42  11.3   13.75  19.4   10.48  13.2   12.89  10.65  11.52\n",
            " 20.94  11.5   19.73  17.3   19.45  13.96  19.55  15.32  15.66  15.53\n",
            " 20.31  17.35  17.29  15.61  17.19  20.73  10.6   13.59  12.87  10.71\n",
            " 14.29  11.29  21.75   9.742 17.93  11.89  11.33  18.81  13.59  13.85\n",
            " 19.16  11.74  19.4   16.24  12.89  12.58  11.94  12.89  11.26  11.37\n",
            " 14.41  14.96  12.95  11.85  12.72  13.77  10.91  11.76  14.26  10.51\n",
            " 19.53  12.46  20.09  10.49  11.46  11.6   13.2    9.    13.5   13.05\n",
            " 11.7   14.61  12.76  11.54   8.597 12.49  12.18  18.22   9.042 12.43\n",
            " 10.25  20.16  12.86  20.34  12.2   12.67  14.11  12.03  16.27  16.26\n",
            " 16.03  12.98  11.22  11.25  12.3   17.06  12.99  18.77  10.05  23.51\n",
            " 14.42   9.606 11.06  19.68  11.71  10.26  12.06  14.76  11.47  11.95\n",
            " 11.66  15.75  25.73  15.08  11.14  12.56  13.05  13.87   8.878  9.436\n",
            " 12.54  13.3   12.76  16.5   13.4   20.44  20.2   12.21  21.71  22.01\n",
            " 16.35  15.19  21.37  20.64  13.69  16.17  10.57  13.46  13.66  11.08\n",
            " 11.27  11.04  12.05  12.39  13.28  14.6   12.21  13.88  11.27  19.55\n",
            " 10.26   8.734 15.49  21.61  12.1   14.06  13.51  12.8   11.06  11.8\n",
            " 17.91  11.93  12.96  12.94  12.34  10.94  16.14  12.85  17.99  12.27\n",
            " 11.36  11.04   9.397 14.99  15.13  11.89   9.405 15.5   12.7   11.16\n",
            " 11.57  14.69  11.61  13.66   9.742 10.03  10.48  10.8   11.13  12.72\n",
            " 14.9   12.4   20.18  18.82  14.86  13.98  12.87  14.04  13.85  14.02\n",
            " 10.97  17.27  13.78  10.57  18.03  11.99  17.75  14.8   14.53  21.1\n",
            " 11.87  19.59  12.    14.53  12.62  13.38  11.63  13.21  13.     9.755\n",
            " 17.08  27.42  14.4   11.6   13.17  13.24  13.14   9.668 17.6   11.62\n",
            "  9.667 12.04  14.92  12.27  10.88  12.83  14.2   13.9   11.49  16.25\n",
            " 12.16  13.9   13.47  13.7   15.73  12.45  14.64  19.44  11.68  16.69\n",
            " 12.25  17.85  18.01  12.46  13.16  14.87  12.65  12.47  18.49  20.59\n",
            " 15.04  13.82  12.54  23.09   9.268  9.676 12.22  11.06  16.3   15.46\n",
            " 11.74  14.81  13.4   14.58  15.05  11.34  18.31  19.89  12.88  12.75\n",
            "  9.295 24.63  11.26  13.71   9.847  8.571 13.46  12.34  13.94  12.07\n",
            " 11.75  11.67  13.68  20.47  10.96  20.55  14.27  11.69   7.729  7.691\n",
            " 11.54  14.47  14.74  13.21  13.87  13.62  10.32  10.26   9.683 10.82\n",
            " 10.86  11.13  12.77   9.333 12.88  10.29  10.16   9.423 14.59  11.51\n",
            " 14.05  11.2   15.22  20.92  21.56  20.13  16.6   20.6    7.76 ] ['10-20', '20-30', '10-20', '10-20', '20-30', ..., '20-30', '20-30', '10-20', '20-30', '0-10']\n",
            "Length: 569\n",
            "Categories (4, object): ['0-10' < '10-20' < '20-30' < '>30']\n"
          ]
        }
      ],
      "source": [
        "X=data1['radius_mean'].values\n",
        "y=data1['radius_category'].values\n",
        "print(X,y)"
      ]
    },
    {
      "cell_type": "code",
      "execution_count": null,
      "metadata": {
        "id": "a_kGzmbqMSo5"
      },
      "outputs": [],
      "source": [
        "from sklearn.preprocessing import StandardScaler\n",
        "\n",
        "scaler=StandardScaler()\n",
        "X=X.reshape(-1,1)\n",
        "print(type(X))\n",
        "print(np.shape(X))\n",
        "X_data=scaler.fit_transform(X)\n",
        "print(X_data)"
      ]
    },
    {
      "cell_type": "code",
      "execution_count": 125,
      "metadata": {
        "id": "I8HtOuFMOBmC"
      },
      "outputs": [],
      "source": [
        "from sklearn.model_selection import train_test_split\n",
        "\n",
        "X_train,X_test,y_train,y_test=train_test_split(X_data,y,test_size=0.3,random_state=42)"
      ]
    },
    {
      "cell_type": "code",
      "execution_count": null,
      "metadata": {
        "id": "tsiLxtKcO9VX"
      },
      "outputs": [],
      "source": [
        "print(X_test,y_test)"
      ]
    },
    {
      "cell_type": "markdown",
      "metadata": {
        "id": "xJYDun3XQxnQ"
      },
      "source": [
        "Experiment-3"
      ]
    },
    {
      "cell_type": "code",
      "execution_count": null,
      "metadata": {
        "colab": {
          "base_uri": "https://localhost:8080/"
        },
        "id": "YT5K9iUdQwNf",
        "outputId": "d24c3685-eb86-4355-b73e-9a458399faf1"
      },
      "outputs": [
        {
          "name": "stdout",
          "output_type": "stream",
          "text": [
            "   sepal_length  sepal_width  petal_length  petal_width      species\n",
            "0           5.1          3.5           1.4          0.2  Iris-setosa\n",
            "1           4.9          3.0           1.4          0.2  Iris-setosa\n",
            "2           4.7          3.2           1.3          0.2  Iris-setosa\n",
            "3           4.6          3.1           1.5          0.2  Iris-setosa\n",
            "4           5.0          3.6           1.4          0.2  Iris-setosa\n"
          ]
        }
      ],
      "source": [
        "iris=pd.read_csv(\"IRIS.csv\")\n",
        "print(iris.head())"
      ]
    },
    {
      "cell_type": "code",
      "execution_count": null,
      "metadata": {
        "id": "n8KZ82hjV5Tu"
      },
      "outputs": [],
      "source": [
        "X_iris=iris.drop('species',axis=1).values\n",
        "y_iris=iris['species'].values\n",
        "print(X_iris,y_iris)"
      ]
    },
    {
      "cell_type": "code",
      "execution_count": null,
      "metadata": {
        "colab": {
          "base_uri": "https://localhost:8080/"
        },
        "id": "OrvVhVQtW7KZ",
        "outputId": "3b69e4b6-5401-4e82-dc03-882ec0a6cad1"
      },
      "outputs": [
        {
          "name": "stdout",
          "output_type": "stream",
          "text": [
            "[[0.99857916]]\n"
          ]
        }
      ],
      "source": [
        "from sklearn.metrics.pairwise import cosine_similarity\n",
        "\n",
        "cosine_sim=cosine_similarity(X_iris[[0]],X_iris[[1]])\n",
        "print(cosine_sim)"
      ]
    },
    {
      "cell_type": "code",
      "execution_count": null,
      "metadata": {
        "colab": {
          "base_uri": "https://localhost:8080/"
        },
        "id": "Dzmo_ck0Y1Kb",
        "outputId": "e1abe161-dd6d-4014-ea05-e6f0cfa4005d"
      },
      "outputs": [
        {
          "name": "stdout",
          "output_type": "stream",
          "text": [
            "[[0.53851648]]\n"
          ]
        }
      ],
      "source": [
        "from sklearn.metrics.pairwise import euclidean_distances\n",
        "\n",
        "euclidean_dis=euclidean_distances(X_iris[[0]],X_iris[[1]])\n",
        "print(euclidean_dis)"
      ]
    },
    {
      "cell_type": "code",
      "execution_count": null,
      "metadata": {
        "colab": {
          "base_uri": "https://localhost:8080/"
        },
        "id": "n1e6EhRDZWPr",
        "outputId": "7e0c9409-dda7-46e8-a149-ff40f9e2dceb"
      },
      "outputs": [
        {
          "name": "stdout",
          "output_type": "stream",
          "text": [
            "PearsonRResult(statistic=0.9627570970509661, pvalue=5.7766609884951665e-86)\n"
          ]
        }
      ],
      "source": [
        "from scipy.stats import pearsonr\n",
        "\n",
        "pearson=pearsonr(iris['petal_length'],iris['petal_width'])\n",
        "print(pearson)"
      ]
    },
    {
      "cell_type": "code",
      "execution_count": null,
      "metadata": {
        "colab": {
          "base_uri": "https://localhost:8080/"
        },
        "id": "lIlhez1HaIGm",
        "outputId": "92eef936-58dd-4bd3-dbf9-ac0e3c55c754"
      },
      "outputs": [
        {
          "name": "stdout",
          "output_type": "stream",
          "text": [
            "1.0\n"
          ]
        }
      ],
      "source": [
        "from sklearn.metrics import jaccard_score\n",
        "\n",
        "# Assuming X_iris is your NumPy array and 'species' is the column containing the species information\n",
        "jaccard_sim = jaccard_score([y_iris[0]],[y_iris[1]],average='micro')\n",
        "\n",
        "print(jaccard_sim)\n"
      ]
    },
    {
      "cell_type": "code",
      "execution_count": null,
      "metadata": {
        "colab": {
          "base_uri": "https://localhost:8080/"
        },
        "id": "eWJ1hiVynMai",
        "outputId": "0f7ad075-e2db-477a-df0d-74d551478488"
      },
      "outputs": [
        {
          "name": "stdout",
          "output_type": "stream",
          "text": [
            "0.6999999999999993\n"
          ]
        }
      ],
      "source": [
        "from sklearn.metrics.pairwise import manhattan_distances\n",
        "\n",
        "manhattan_dis=manhattan_distances(X_iris[[0],:-1],X_iris[[1],:-1])\n",
        "\n",
        "print(manhattan_dis[0][0])"
      ]
    },
    {
      "cell_type": "markdown",
      "metadata": {
        "id": "IUUTgybwqbok"
      },
      "source": [
        "Experiment-4 Linear Regression"
      ]
    },
    {
      "cell_type": "code",
      "execution_count": null,
      "metadata": {
        "colab": {
          "base_uri": "https://localhost:8080/"
        },
        "id": "omPOneHIqfSo",
        "outputId": "6ed75b2b-dd7c-42c8-ee62-138c6a86f981"
      },
      "outputs": [
        {
          "name": "stdout",
          "output_type": "stream",
          "text": [
            "      RM  LSTAT  PTRATIO      MEDV\n",
            "0  6.575   4.98     15.3  504000.0\n",
            "1  6.421   9.14     17.8  453600.0\n",
            "2  7.185   4.03     17.8  728700.0\n",
            "3  6.998   2.94     18.7  701400.0\n",
            "4  7.147   5.33     18.7  760200.0\n"
          ]
        }
      ],
      "source": [
        "boston=pd.read_csv(\"housing.csv\")\n",
        "print(boston.head())"
      ]
    },
    {
      "cell_type": "code",
      "execution_count": null,
      "metadata": {
        "id": "J3-wVmB-rT0j"
      },
      "outputs": [],
      "source": [
        "X_boston=boston.drop('MEDV',axis=1).values\n",
        "y_boston=boston['MEDV'].values"
      ]
    },
    {
      "cell_type": "code",
      "execution_count": null,
      "metadata": {
        "colab": {
          "base_uri": "https://localhost:8080/"
        },
        "id": "xBn5LO71rfTb",
        "outputId": "9e462334-f497-45e1-ea4c-6553618b0cf2"
      },
      "outputs": [
        {
          "name": "stdout",
          "output_type": "stream",
          "text": [
            "RM         0\n",
            "LSTAT      0\n",
            "PTRATIO    0\n",
            "MEDV       0\n",
            "dtype: int64\n"
          ]
        }
      ],
      "source": [
        "missing=boston.isnull().sum()\n",
        "print(missing)"
      ]
    },
    {
      "cell_type": "code",
      "execution_count": null,
      "metadata": {
        "id": "aYjfz6z5shs6"
      },
      "outputs": [],
      "source": [
        "from sklearn.model_selection import train_test_split\n",
        "\n",
        "X_train,X_test,y_train,y_test=train_test_split(X_boston,y_boston,test_size=0.2,random_state=42)"
      ]
    },
    {
      "cell_type": "code",
      "execution_count": null,
      "metadata": {
        "colab": {
          "base_uri": "https://localhost:8080/",
          "height": 74
        },
        "id": "8tHtsMBrr4hX",
        "outputId": "8c844160-43f5-4d9a-baec-ebddc3c90237"
      },
      "outputs": [
        {
          "data": {
            "text/html": [
              "<style>#sk-container-id-5 {color: black;background-color: white;}#sk-container-id-5 pre{padding: 0;}#sk-container-id-5 div.sk-toggleable {background-color: white;}#sk-container-id-5 label.sk-toggleable__label {cursor: pointer;display: block;width: 100%;margin-bottom: 0;padding: 0.3em;box-sizing: border-box;text-align: center;}#sk-container-id-5 label.sk-toggleable__label-arrow:before {content: \"▸\";float: left;margin-right: 0.25em;color: #696969;}#sk-container-id-5 label.sk-toggleable__label-arrow:hover:before {color: black;}#sk-container-id-5 div.sk-estimator:hover label.sk-toggleable__label-arrow:before {color: black;}#sk-container-id-5 div.sk-toggleable__content {max-height: 0;max-width: 0;overflow: hidden;text-align: left;background-color: #f0f8ff;}#sk-container-id-5 div.sk-toggleable__content pre {margin: 0.2em;color: black;border-radius: 0.25em;background-color: #f0f8ff;}#sk-container-id-5 input.sk-toggleable__control:checked~div.sk-toggleable__content {max-height: 200px;max-width: 100%;overflow: auto;}#sk-container-id-5 input.sk-toggleable__control:checked~label.sk-toggleable__label-arrow:before {content: \"▾\";}#sk-container-id-5 div.sk-estimator input.sk-toggleable__control:checked~label.sk-toggleable__label {background-color: #d4ebff;}#sk-container-id-5 div.sk-label input.sk-toggleable__control:checked~label.sk-toggleable__label {background-color: #d4ebff;}#sk-container-id-5 input.sk-hidden--visually {border: 0;clip: rect(1px 1px 1px 1px);clip: rect(1px, 1px, 1px, 1px);height: 1px;margin: -1px;overflow: hidden;padding: 0;position: absolute;width: 1px;}#sk-container-id-5 div.sk-estimator {font-family: monospace;background-color: #f0f8ff;border: 1px dotted black;border-radius: 0.25em;box-sizing: border-box;margin-bottom: 0.5em;}#sk-container-id-5 div.sk-estimator:hover {background-color: #d4ebff;}#sk-container-id-5 div.sk-parallel-item::after {content: \"\";width: 100%;border-bottom: 1px solid gray;flex-grow: 1;}#sk-container-id-5 div.sk-label:hover label.sk-toggleable__label {background-color: #d4ebff;}#sk-container-id-5 div.sk-serial::before {content: \"\";position: absolute;border-left: 1px solid gray;box-sizing: border-box;top: 0;bottom: 0;left: 50%;z-index: 0;}#sk-container-id-5 div.sk-serial {display: flex;flex-direction: column;align-items: center;background-color: white;padding-right: 0.2em;padding-left: 0.2em;position: relative;}#sk-container-id-5 div.sk-item {position: relative;z-index: 1;}#sk-container-id-5 div.sk-parallel {display: flex;align-items: stretch;justify-content: center;background-color: white;position: relative;}#sk-container-id-5 div.sk-item::before, #sk-container-id-5 div.sk-parallel-item::before {content: \"\";position: absolute;border-left: 1px solid gray;box-sizing: border-box;top: 0;bottom: 0;left: 50%;z-index: -1;}#sk-container-id-5 div.sk-parallel-item {display: flex;flex-direction: column;z-index: 1;position: relative;background-color: white;}#sk-container-id-5 div.sk-parallel-item:first-child::after {align-self: flex-end;width: 50%;}#sk-container-id-5 div.sk-parallel-item:last-child::after {align-self: flex-start;width: 50%;}#sk-container-id-5 div.sk-parallel-item:only-child::after {width: 0;}#sk-container-id-5 div.sk-dashed-wrapped {border: 1px dashed gray;margin: 0 0.4em 0.5em 0.4em;box-sizing: border-box;padding-bottom: 0.4em;background-color: white;}#sk-container-id-5 div.sk-label label {font-family: monospace;font-weight: bold;display: inline-block;line-height: 1.2em;}#sk-container-id-5 div.sk-label-container {text-align: center;}#sk-container-id-5 div.sk-container {/* jupyter's `normalize.less` sets `[hidden] { display: none; }` but bootstrap.min.css set `[hidden] { display: none !important; }` so we also need the `!important` here to be able to override the default hidden behavior on the sphinx rendered scikit-learn.org. See: https://github.com/scikit-learn/scikit-learn/issues/21755 */display: inline-block !important;position: relative;}#sk-container-id-5 div.sk-text-repr-fallback {display: none;}</style><div id=\"sk-container-id-5\" class=\"sk-top-container\"><div class=\"sk-text-repr-fallback\"><pre>LinearRegression()</pre><b>In a Jupyter environment, please rerun this cell to show the HTML representation or trust the notebook. <br />On GitHub, the HTML representation is unable to render, please try loading this page with nbviewer.org.</b></div><div class=\"sk-container\" hidden><div class=\"sk-item\"><div class=\"sk-estimator sk-toggleable\"><input class=\"sk-toggleable__control sk-hidden--visually\" id=\"sk-estimator-id-5\" type=\"checkbox\" checked><label for=\"sk-estimator-id-5\" class=\"sk-toggleable__label sk-toggleable__label-arrow\">LinearRegression</label><div class=\"sk-toggleable__content\"><pre>LinearRegression()</pre></div></div></div></div></div>"
            ],
            "text/plain": [
              "LinearRegression()"
            ]
          },
          "execution_count": 135,
          "metadata": {},
          "output_type": "execute_result"
        }
      ],
      "source": [
        "from sklearn.linear_model import LinearRegression\n",
        "\n",
        "lr=LinearRegression()\n",
        "lr.fit(X_train,y_train)"
      ]
    },
    {
      "cell_type": "code",
      "execution_count": null,
      "metadata": {
        "id": "syl1EhHnsMMg"
      },
      "outputs": [],
      "source": [
        "y_pred=lr.predict(X_test)"
      ]
    },
    {
      "cell_type": "code",
      "execution_count": null,
      "metadata": {
        "id": "IOGHVaWTruMl"
      },
      "outputs": [],
      "source": [
        "from sklearn.metrics import mean_squared_error,r2_score\n",
        "\n",
        "meansq=mean_squared_error(y_test,y_pred)\n",
        "r2=r2_score(y_test,y_pred)"
      ]
    },
    {
      "cell_type": "code",
      "execution_count": null,
      "metadata": {
        "colab": {
          "base_uri": "https://localhost:8080/"
        },
        "id": "8aF8903Svu-E",
        "outputId": "c09ed555-435e-4457-be02-22769498ff17"
      },
      "outputs": [
        {
          "name": "stdout",
          "output_type": "stream",
          "text": [
            "Mean_square_error:- 6789025559.26586\n",
            "R2 score:- 0.6910934003098526\n"
          ]
        }
      ],
      "source": [
        "print('Mean_square_error:-',meansq)\n",
        "print('R2 score:-',r2)"
      ]
    },
    {
      "cell_type": "code",
      "execution_count": null,
      "metadata": {
        "colab": {
          "base_uri": "https://localhost:8080/"
        },
        "id": "jp415Am_wlwm",
        "outputId": "66038aae-3cb4-4943-ca5e-3f84b15d81b7"
      },
      "outputs": [
        {
          "name": "stdout",
          "output_type": "stream",
          "text": [
            "[-3901792.4154484]\n"
          ]
        }
      ],
      "source": [
        "new_test=np.array([[0.02,396.9,4.98]])\n",
        "\n",
        "new_pred=lr.predict(new_test)\n",
        "print(new_pred)"
      ]
    },
    {
      "cell_type": "markdown",
      "metadata": {
        "id": "tp9XleJHyWgd"
      },
      "source": [
        "Experiment-5 Decission Tree Classifier"
      ]
    },
    {
      "cell_type": "code",
      "execution_count": null,
      "metadata": {
        "colab": {
          "base_uri": "https://localhost:8080/"
        },
        "id": "dbI2cQxhyVGp",
        "outputId": "b6b46a6f-377e-4aef-bbde-51d149104fe8"
      },
      "outputs": [
        {
          "name": "stdout",
          "output_type": "stream",
          "text": [
            "   sepal_length  sepal_width  petal_length  petal_width      species\n",
            "0           5.1          3.5           1.4          0.2  Iris-setosa\n",
            "1           4.9          3.0           1.4          0.2  Iris-setosa\n",
            "2           4.7          3.2           1.3          0.2  Iris-setosa\n",
            "3           4.6          3.1           1.5          0.2  Iris-setosa\n",
            "4           5.0          3.6           1.4          0.2  Iris-setosa\n"
          ]
        }
      ],
      "source": [
        "tree=pd.read_csv(\"IRIS.csv\")\n",
        "print(tree.head())"
      ]
    },
    {
      "cell_type": "code",
      "execution_count": null,
      "metadata": {
        "id": "HRkjcaS-y_T-"
      },
      "outputs": [],
      "source": [
        "X_tree=tree.drop('species',axis=1).values\n",
        "y_tree=tree['species'].values"
      ]
    },
    {
      "cell_type": "code",
      "execution_count": null,
      "metadata": {
        "id": "zUol3_Lyz5O_"
      },
      "outputs": [],
      "source": [
        "from sklearn.model_selection import train_test_split\n",
        "\n",
        "X_train,X_test,y_train,y_test=train_test_split(X_tree,y_tree,test_size=0.2,random_state=42)"
      ]
    },
    {
      "cell_type": "code",
      "execution_count": null,
      "metadata": {
        "colab": {
          "base_uri": "https://localhost:8080/",
          "height": 74
        },
        "id": "WO1BYj_a02_i",
        "outputId": "5c899d0c-e649-472e-896a-05ea7577068d"
      },
      "outputs": [
        {
          "data": {
            "text/html": [
              "<style>#sk-container-id-6 {color: black;background-color: white;}#sk-container-id-6 pre{padding: 0;}#sk-container-id-6 div.sk-toggleable {background-color: white;}#sk-container-id-6 label.sk-toggleable__label {cursor: pointer;display: block;width: 100%;margin-bottom: 0;padding: 0.3em;box-sizing: border-box;text-align: center;}#sk-container-id-6 label.sk-toggleable__label-arrow:before {content: \"▸\";float: left;margin-right: 0.25em;color: #696969;}#sk-container-id-6 label.sk-toggleable__label-arrow:hover:before {color: black;}#sk-container-id-6 div.sk-estimator:hover label.sk-toggleable__label-arrow:before {color: black;}#sk-container-id-6 div.sk-toggleable__content {max-height: 0;max-width: 0;overflow: hidden;text-align: left;background-color: #f0f8ff;}#sk-container-id-6 div.sk-toggleable__content pre {margin: 0.2em;color: black;border-radius: 0.25em;background-color: #f0f8ff;}#sk-container-id-6 input.sk-toggleable__control:checked~div.sk-toggleable__content {max-height: 200px;max-width: 100%;overflow: auto;}#sk-container-id-6 input.sk-toggleable__control:checked~label.sk-toggleable__label-arrow:before {content: \"▾\";}#sk-container-id-6 div.sk-estimator input.sk-toggleable__control:checked~label.sk-toggleable__label {background-color: #d4ebff;}#sk-container-id-6 div.sk-label input.sk-toggleable__control:checked~label.sk-toggleable__label {background-color: #d4ebff;}#sk-container-id-6 input.sk-hidden--visually {border: 0;clip: rect(1px 1px 1px 1px);clip: rect(1px, 1px, 1px, 1px);height: 1px;margin: -1px;overflow: hidden;padding: 0;position: absolute;width: 1px;}#sk-container-id-6 div.sk-estimator {font-family: monospace;background-color: #f0f8ff;border: 1px dotted black;border-radius: 0.25em;box-sizing: border-box;margin-bottom: 0.5em;}#sk-container-id-6 div.sk-estimator:hover {background-color: #d4ebff;}#sk-container-id-6 div.sk-parallel-item::after {content: \"\";width: 100%;border-bottom: 1px solid gray;flex-grow: 1;}#sk-container-id-6 div.sk-label:hover label.sk-toggleable__label {background-color: #d4ebff;}#sk-container-id-6 div.sk-serial::before {content: \"\";position: absolute;border-left: 1px solid gray;box-sizing: border-box;top: 0;bottom: 0;left: 50%;z-index: 0;}#sk-container-id-6 div.sk-serial {display: flex;flex-direction: column;align-items: center;background-color: white;padding-right: 0.2em;padding-left: 0.2em;position: relative;}#sk-container-id-6 div.sk-item {position: relative;z-index: 1;}#sk-container-id-6 div.sk-parallel {display: flex;align-items: stretch;justify-content: center;background-color: white;position: relative;}#sk-container-id-6 div.sk-item::before, #sk-container-id-6 div.sk-parallel-item::before {content: \"\";position: absolute;border-left: 1px solid gray;box-sizing: border-box;top: 0;bottom: 0;left: 50%;z-index: -1;}#sk-container-id-6 div.sk-parallel-item {display: flex;flex-direction: column;z-index: 1;position: relative;background-color: white;}#sk-container-id-6 div.sk-parallel-item:first-child::after {align-self: flex-end;width: 50%;}#sk-container-id-6 div.sk-parallel-item:last-child::after {align-self: flex-start;width: 50%;}#sk-container-id-6 div.sk-parallel-item:only-child::after {width: 0;}#sk-container-id-6 div.sk-dashed-wrapped {border: 1px dashed gray;margin: 0 0.4em 0.5em 0.4em;box-sizing: border-box;padding-bottom: 0.4em;background-color: white;}#sk-container-id-6 div.sk-label label {font-family: monospace;font-weight: bold;display: inline-block;line-height: 1.2em;}#sk-container-id-6 div.sk-label-container {text-align: center;}#sk-container-id-6 div.sk-container {/* jupyter's `normalize.less` sets `[hidden] { display: none; }` but bootstrap.min.css set `[hidden] { display: none !important; }` so we also need the `!important` here to be able to override the default hidden behavior on the sphinx rendered scikit-learn.org. See: https://github.com/scikit-learn/scikit-learn/issues/21755 */display: inline-block !important;position: relative;}#sk-container-id-6 div.sk-text-repr-fallback {display: none;}</style><div id=\"sk-container-id-6\" class=\"sk-top-container\"><div class=\"sk-text-repr-fallback\"><pre>DecisionTreeClassifier(random_state=42)</pre><b>In a Jupyter environment, please rerun this cell to show the HTML representation or trust the notebook. <br />On GitHub, the HTML representation is unable to render, please try loading this page with nbviewer.org.</b></div><div class=\"sk-container\" hidden><div class=\"sk-item\"><div class=\"sk-estimator sk-toggleable\"><input class=\"sk-toggleable__control sk-hidden--visually\" id=\"sk-estimator-id-6\" type=\"checkbox\" checked><label for=\"sk-estimator-id-6\" class=\"sk-toggleable__label sk-toggleable__label-arrow\">DecisionTreeClassifier</label><div class=\"sk-toggleable__content\"><pre>DecisionTreeClassifier(random_state=42)</pre></div></div></div></div></div>"
            ],
            "text/plain": [
              "DecisionTreeClassifier(random_state=42)"
            ]
          },
          "execution_count": 145,
          "metadata": {},
          "output_type": "execute_result"
        }
      ],
      "source": [
        "from sklearn.tree import DecisionTreeClassifier\n",
        "\n",
        "dt_model=DecisionTreeClassifier(random_state=42)\n",
        "\n",
        "dt_model.fit(X_train,y_train)"
      ]
    },
    {
      "cell_type": "code",
      "execution_count": null,
      "metadata": {
        "id": "yd07GoRM1N4T"
      },
      "outputs": [],
      "source": [
        "y_pred=dt_model.predict(X_test)"
      ]
    },
    {
      "cell_type": "code",
      "execution_count": null,
      "metadata": {
        "id": "-_9lmT3E1d2N"
      },
      "outputs": [],
      "source": [
        "from sklearn.metrics import accuracy_score\n",
        "\n",
        "accuracy=accuracy_score(y_test,y_pred)"
      ]
    },
    {
      "cell_type": "code",
      "execution_count": null,
      "metadata": {
        "colab": {
          "base_uri": "https://localhost:8080/"
        },
        "id": "1KWDozb31s9O",
        "outputId": "f58de9c7-e51c-4c3d-b647-fd6070e7f688"
      },
      "outputs": [
        {
          "name": "stdout",
          "output_type": "stream",
          "text": [
            "Accuracy Score:- 1.0\n"
          ]
        }
      ],
      "source": [
        "print('Accuracy Score:-',accuracy)"
      ]
    },
    {
      "cell_type": "markdown",
      "metadata": {
        "id": "3WKyVotJ2OZK"
      },
      "source": [
        "Experiment-6 Navie Bayes"
      ]
    },
    {
      "cell_type": "code",
      "execution_count": 6,
      "metadata": {
        "colab": {
          "base_uri": "https://localhost:8080/"
        },
        "id": "LyaV3jK12VFN",
        "outputId": "94ac70e7-a04e-495e-e794-75eacccedf12"
      },
      "outputs": [
        {
          "output_type": "stream",
          "name": "stdout",
          "text": [
            "         id diagnosis  radius_mean  ...  symmetry_worst  fractal_dimension_worst  Unnamed: 32\n",
            "0    842302         M        17.99  ...          0.4601                  0.11890          NaN\n",
            "1    842517         M        20.57  ...          0.2750                  0.08902          NaN\n",
            "2  84300903         M        19.69  ...          0.3613                  0.08758          NaN\n",
            "3  84348301         M        11.42  ...          0.6638                  0.17300          NaN\n",
            "4  84358402         M        20.29  ...          0.2364                  0.07678          NaN\n",
            "\n",
            "[5 rows x 33 columns]\n"
          ]
        }
      ],
      "source": [
        "navie=pd.read_csv(\"data.csv\")\n",
        "print(navie.head())"
      ]
    },
    {
      "cell_type": "code",
      "execution_count": 7,
      "metadata": {
        "colab": {
          "base_uri": "https://localhost:8080/"
        },
        "id": "uVHr9-4P223D",
        "outputId": "8149dfc2-22be-4781-ee5f-39da72aa3e94"
      },
      "outputs": [
        {
          "output_type": "stream",
          "name": "stdout",
          "text": [
            "(569, 1)\n"
          ]
        }
      ],
      "source": [
        "X_navie=navie['radius_mean'].values\n",
        "# print(y_navie)\n",
        "X_navie=X_navie.reshape(-1,1)\n",
        "print(X_navie.shape)"
      ]
    },
    {
      "cell_type": "code",
      "source": [
        "from sklearn.preprocessing import LabelEncoder\n",
        "le=LabelEncoder()\n",
        "navie['diagno']=le.fit_transform(navie['diagnosis'])\n",
        "print(navie.head())"
      ],
      "metadata": {
        "colab": {
          "base_uri": "https://localhost:8080/"
        },
        "id": "_v69tOsm-Tji",
        "outputId": "d5556a73-9dff-4cf3-fd51-e95c3a18331b"
      },
      "execution_count": 8,
      "outputs": [
        {
          "output_type": "stream",
          "name": "stdout",
          "text": [
            "         id diagnosis  radius_mean  ...  fractal_dimension_worst  Unnamed: 32  diagno\n",
            "0    842302         M        17.99  ...                  0.11890          NaN       1\n",
            "1    842517         M        20.57  ...                  0.08902          NaN       1\n",
            "2  84300903         M        19.69  ...                  0.08758          NaN       1\n",
            "3  84348301         M        11.42  ...                  0.17300          NaN       1\n",
            "4  84358402         M        20.29  ...                  0.07678          NaN       1\n",
            "\n",
            "[5 rows x 34 columns]\n"
          ]
        }
      ]
    },
    {
      "cell_type": "code",
      "source": [
        "y_navie=navie['diagno'].values\n",
        "print(y_navie)"
      ],
      "metadata": {
        "colab": {
          "base_uri": "https://localhost:8080/"
        },
        "id": "dbiU8vd1_9SP",
        "outputId": "bf399e6a-9ae7-46db-ba6d-6e1ff8771a15"
      },
      "execution_count": 9,
      "outputs": [
        {
          "output_type": "stream",
          "name": "stdout",
          "text": [
            "[1 1 1 1 1 1 1 1 1 1 1 1 1 1 1 1 1 1 1 0 0 0 1 1 1 1 1 1 1 1 1 1 1 1 1 1 1\n",
            " 0 1 1 1 1 1 1 1 1 0 1 0 0 0 0 0 1 1 0 1 1 0 0 0 0 1 0 1 1 0 0 0 0 1 0 1 1\n",
            " 0 1 0 1 1 0 0 0 1 1 0 1 1 1 0 0 0 1 0 0 1 1 0 0 0 1 1 0 0 0 0 1 0 0 1 0 0\n",
            " 0 0 0 0 0 0 1 1 1 0 1 1 0 0 0 1 1 0 1 0 1 1 0 1 1 0 0 1 0 0 1 0 0 0 0 1 0\n",
            " 0 0 0 0 0 0 0 0 1 0 0 0 0 1 1 0 1 0 0 1 1 0 0 1 1 0 0 0 0 1 0 0 1 1 1 0 1\n",
            " 0 1 0 0 0 1 0 0 1 1 0 1 1 1 1 0 1 1 1 0 1 0 1 0 0 1 0 1 1 1 1 0 0 1 1 0 0\n",
            " 0 1 0 0 0 0 0 1 1 0 0 1 0 0 1 1 0 1 0 0 0 0 1 0 0 0 0 0 1 0 1 1 1 1 1 1 1\n",
            " 1 1 1 1 1 1 1 0 0 0 0 0 0 1 0 1 0 0 1 0 0 1 0 1 1 0 0 0 0 0 0 0 0 0 0 0 0\n",
            " 0 1 0 0 1 0 1 0 0 0 0 0 0 0 0 0 0 0 0 0 0 1 0 0 0 1 0 1 0 0 0 0 1 1 1 0 0\n",
            " 0 0 1 0 1 0 1 0 0 0 1 0 0 0 0 0 0 0 1 1 1 0 0 0 0 0 0 0 0 0 0 0 1 1 0 1 1\n",
            " 1 0 1 1 0 0 0 0 0 1 0 0 0 0 0 1 0 0 0 1 0 0 1 1 0 0 0 0 0 0 1 0 0 0 0 0 0\n",
            " 0 1 0 0 0 0 0 1 0 0 1 0 0 0 0 0 0 0 0 0 0 0 0 1 0 1 1 0 1 0 0 0 0 0 1 0 0\n",
            " 1 0 1 0 0 1 0 1 0 0 0 0 0 0 0 0 1 1 0 0 0 0 0 0 1 0 0 0 0 0 0 0 0 0 0 1 0\n",
            " 0 0 0 0 0 0 1 0 1 0 0 1 0 0 0 0 0 1 1 0 1 0 1 0 0 0 0 0 1 0 0 1 0 1 0 1 1\n",
            " 0 0 0 1 0 0 0 0 0 0 0 0 0 0 0 1 0 1 1 0 0 0 0 0 0 0 0 0 0 0 0 0 0 0 0 0 0\n",
            " 0 0 0 0 0 0 0 1 1 1 1 1 1 0]\n"
          ]
        }
      ]
    },
    {
      "cell_type": "code",
      "execution_count": 10,
      "metadata": {
        "id": "3OEz8_sm46vq"
      },
      "outputs": [],
      "source": [
        "from sklearn.model_selection import train_test_split\n",
        "X_train,X_test,y_train,y_test=train_test_split(X_navie,y_navie,test_size=0.2,random_state=42)"
      ]
    },
    {
      "cell_type": "code",
      "execution_count": null,
      "metadata": {
        "id": "2CQja0ud60Hs"
      },
      "outputs": [],
      "source": [
        "print(X_train,y_train)"
      ]
    },
    {
      "cell_type": "code",
      "execution_count": 12,
      "metadata": {
        "colab": {
          "base_uri": "https://localhost:8080/",
          "height": 74
        },
        "id": "li2LpRbQ5Yg8",
        "outputId": "c25ecbab-e118-4a76-9e7f-22532adfe62c"
      },
      "outputs": [
        {
          "output_type": "execute_result",
          "data": {
            "text/plain": [
              "GaussianNB()"
            ],
            "text/html": [
              "<style>#sk-container-id-1 {color: black;background-color: white;}#sk-container-id-1 pre{padding: 0;}#sk-container-id-1 div.sk-toggleable {background-color: white;}#sk-container-id-1 label.sk-toggleable__label {cursor: pointer;display: block;width: 100%;margin-bottom: 0;padding: 0.3em;box-sizing: border-box;text-align: center;}#sk-container-id-1 label.sk-toggleable__label-arrow:before {content: \"▸\";float: left;margin-right: 0.25em;color: #696969;}#sk-container-id-1 label.sk-toggleable__label-arrow:hover:before {color: black;}#sk-container-id-1 div.sk-estimator:hover label.sk-toggleable__label-arrow:before {color: black;}#sk-container-id-1 div.sk-toggleable__content {max-height: 0;max-width: 0;overflow: hidden;text-align: left;background-color: #f0f8ff;}#sk-container-id-1 div.sk-toggleable__content pre {margin: 0.2em;color: black;border-radius: 0.25em;background-color: #f0f8ff;}#sk-container-id-1 input.sk-toggleable__control:checked~div.sk-toggleable__content {max-height: 200px;max-width: 100%;overflow: auto;}#sk-container-id-1 input.sk-toggleable__control:checked~label.sk-toggleable__label-arrow:before {content: \"▾\";}#sk-container-id-1 div.sk-estimator input.sk-toggleable__control:checked~label.sk-toggleable__label {background-color: #d4ebff;}#sk-container-id-1 div.sk-label input.sk-toggleable__control:checked~label.sk-toggleable__label {background-color: #d4ebff;}#sk-container-id-1 input.sk-hidden--visually {border: 0;clip: rect(1px 1px 1px 1px);clip: rect(1px, 1px, 1px, 1px);height: 1px;margin: -1px;overflow: hidden;padding: 0;position: absolute;width: 1px;}#sk-container-id-1 div.sk-estimator {font-family: monospace;background-color: #f0f8ff;border: 1px dotted black;border-radius: 0.25em;box-sizing: border-box;margin-bottom: 0.5em;}#sk-container-id-1 div.sk-estimator:hover {background-color: #d4ebff;}#sk-container-id-1 div.sk-parallel-item::after {content: \"\";width: 100%;border-bottom: 1px solid gray;flex-grow: 1;}#sk-container-id-1 div.sk-label:hover label.sk-toggleable__label {background-color: #d4ebff;}#sk-container-id-1 div.sk-serial::before {content: \"\";position: absolute;border-left: 1px solid gray;box-sizing: border-box;top: 0;bottom: 0;left: 50%;z-index: 0;}#sk-container-id-1 div.sk-serial {display: flex;flex-direction: column;align-items: center;background-color: white;padding-right: 0.2em;padding-left: 0.2em;position: relative;}#sk-container-id-1 div.sk-item {position: relative;z-index: 1;}#sk-container-id-1 div.sk-parallel {display: flex;align-items: stretch;justify-content: center;background-color: white;position: relative;}#sk-container-id-1 div.sk-item::before, #sk-container-id-1 div.sk-parallel-item::before {content: \"\";position: absolute;border-left: 1px solid gray;box-sizing: border-box;top: 0;bottom: 0;left: 50%;z-index: -1;}#sk-container-id-1 div.sk-parallel-item {display: flex;flex-direction: column;z-index: 1;position: relative;background-color: white;}#sk-container-id-1 div.sk-parallel-item:first-child::after {align-self: flex-end;width: 50%;}#sk-container-id-1 div.sk-parallel-item:last-child::after {align-self: flex-start;width: 50%;}#sk-container-id-1 div.sk-parallel-item:only-child::after {width: 0;}#sk-container-id-1 div.sk-dashed-wrapped {border: 1px dashed gray;margin: 0 0.4em 0.5em 0.4em;box-sizing: border-box;padding-bottom: 0.4em;background-color: white;}#sk-container-id-1 div.sk-label label {font-family: monospace;font-weight: bold;display: inline-block;line-height: 1.2em;}#sk-container-id-1 div.sk-label-container {text-align: center;}#sk-container-id-1 div.sk-container {/* jupyter's `normalize.less` sets `[hidden] { display: none; }` but bootstrap.min.css set `[hidden] { display: none !important; }` so we also need the `!important` here to be able to override the default hidden behavior on the sphinx rendered scikit-learn.org. See: https://github.com/scikit-learn/scikit-learn/issues/21755 */display: inline-block !important;position: relative;}#sk-container-id-1 div.sk-text-repr-fallback {display: none;}</style><div id=\"sk-container-id-1\" class=\"sk-top-container\"><div class=\"sk-text-repr-fallback\"><pre>GaussianNB()</pre><b>In a Jupyter environment, please rerun this cell to show the HTML representation or trust the notebook. <br />On GitHub, the HTML representation is unable to render, please try loading this page with nbviewer.org.</b></div><div class=\"sk-container\" hidden><div class=\"sk-item\"><div class=\"sk-estimator sk-toggleable\"><input class=\"sk-toggleable__control sk-hidden--visually\" id=\"sk-estimator-id-1\" type=\"checkbox\" checked><label for=\"sk-estimator-id-1\" class=\"sk-toggleable__label sk-toggleable__label-arrow\">GaussianNB</label><div class=\"sk-toggleable__content\"><pre>GaussianNB()</pre></div></div></div></div></div>"
            ]
          },
          "metadata": {},
          "execution_count": 12
        }
      ],
      "source": [
        "from sklearn.naive_bayes import GaussianNB\n",
        "\n",
        "model=GaussianNB()\n",
        "\n",
        "model.fit(X_train,y_train)"
      ]
    },
    {
      "cell_type": "code",
      "source": [
        "y_pred=model.predict(X_test)"
      ],
      "metadata": {
        "id": "uhq8xRZUAQhC"
      },
      "execution_count": 13,
      "outputs": []
    },
    {
      "cell_type": "code",
      "source": [
        "from sklearn.metrics import accuracy_score\n",
        "\n",
        "acc=accuracy_score(y_test,y_pred)"
      ],
      "metadata": {
        "id": "FHlv6s2NAW4w"
      },
      "execution_count": 14,
      "outputs": []
    },
    {
      "cell_type": "code",
      "source": [
        "print(\"Accuracy Score\",acc)"
      ],
      "metadata": {
        "colab": {
          "base_uri": "https://localhost:8080/"
        },
        "id": "QuhfzrqUAsPH",
        "outputId": "81293ca0-28ba-4bb5-cc89-a108985f10f0"
      },
      "execution_count": 15,
      "outputs": [
        {
          "output_type": "stream",
          "name": "stdout",
          "text": [
            "Accuracy Score 0.9298245614035088\n"
          ]
        }
      ]
    },
    {
      "cell_type": "markdown",
      "source": [
        "Experiment-7 Apriori"
      ],
      "metadata": {
        "id": "KsG1MbwnBMdI"
      }
    },
    {
      "cell_type": "code",
      "source": [
        "from mlxtend.frequent_patterns import apriori\n",
        "from mlxtend.frequent_patterns import association_rules"
      ],
      "metadata": {
        "id": "7Ci6du7UBRFe"
      },
      "execution_count": 1,
      "outputs": []
    },
    {
      "cell_type": "code",
      "source": [
        "basket=pd.read_csv(\"bread_basket.csv\",header=None)\n",
        "print(basket.head())"
      ],
      "metadata": {
        "colab": {
          "base_uri": "https://localhost:8080/"
        },
        "id": "GadmV-EjpEkA",
        "outputId": "9bd7591c-58f2-40d7-9241-40bf14c054f6"
      },
      "execution_count": 21,
      "outputs": [
        {
          "output_type": "stream",
          "name": "stdout",
          "text": [
            "             0              1                 2           3                4\n",
            "0  Transaction           Item         date_time  period_day  weekday_weekend\n",
            "1            1          Bread  30-10-2016 09:58     morning          weekend\n",
            "2            2   Scandinavian  30-10-2016 10:05     morning          weekend\n",
            "3            2   Scandinavian  30-10-2016 10:05     morning          weekend\n",
            "4            3  Hot chocolate  30-10-2016 10:07     morning          weekend\n"
          ]
        }
      ]
    },
    {
      "cell_type": "code",
      "source": [
        "onehot=pd.get_dummies(basket)\n",
        "\n",
        "frequent_items=apriori(onehot,min_support=0.1,use_colnames=True)\n",
        "association=association_rules(frequent_items,metric=\"lift\",min_threshold=1)"
      ],
      "metadata": {
        "id": "n2ntvl_1r4ls"
      },
      "execution_count": 23,
      "outputs": []
    },
    {
      "cell_type": "code",
      "source": [
        "print(\"Frequent Items:-\",frequent_items)\n",
        "print(\"Association Rules:-\",association)"
      ],
      "metadata": {
        "colab": {
          "base_uri": "https://localhost:8080/"
        },
        "id": "c-vIlRCOssyJ",
        "outputId": "032d6b62-9afa-4875-c39a-c1e0d38fca69"
      },
      "execution_count": 24,
      "outputs": [
        {
          "output_type": "stream",
          "name": "stdout",
          "text": [
            "Frequent Items:-      support                  itemsets\n",
            "0   0.162132                 (1_Bread)\n",
            "1   0.266774                (1_Coffee)\n",
            "2   0.564121             (3_afternoon)\n",
            "3   0.409791               (3_morning)\n",
            "4   0.624488               (4_weekday)\n",
            "5   0.375463               (4_weekend)\n",
            "6   0.102009      (4_weekday, 1_Bread)\n",
            "7   0.137654   (3_afternoon, 1_Coffee)\n",
            "8   0.124878     (3_morning, 1_Coffee)\n",
            "9   0.172762     (4_weekday, 1_Coffee)\n",
            "10  0.354642  (4_weekday, 3_afternoon)\n",
            "11  0.209479  (3_afternoon, 4_weekend)\n",
            "12  0.252292    (4_weekday, 3_morning)\n",
            "13  0.157500    (3_morning, 4_weekend)\n",
            "Association Rules:-      antecedents    consequents  antecedent support  ...  leverage  conviction  zhangs_metric\n",
            "0    (4_weekday)      (1_Bread)            0.624488  ...  0.000760    1.001454       0.019829\n",
            "1      (1_Bread)    (4_weekday)            0.162132  ...  0.000760    1.012634       0.008887\n",
            "2    (3_morning)     (1_Coffee)            0.409791  ...  0.015556    1.054601       0.211066\n",
            "3     (1_Coffee)    (3_morning)            0.266774  ...  0.015556    1.109633       0.169897\n",
            "4    (4_weekday)     (1_Coffee)            0.624488  ...  0.006165    1.013647       0.095026\n",
            "5     (1_Coffee)    (4_weekday)            0.266774  ...  0.006165    1.065574       0.048666\n",
            "6    (4_weekday)  (3_afternoon)            0.624488  ...  0.002355    1.008728       0.017685\n",
            "7  (3_afternoon)    (4_weekday)            0.564121  ...  0.002355    1.011243       0.015235\n",
            "8    (3_morning)    (4_weekend)            0.409791  ...  0.003638    1.014420       0.039136\n",
            "9    (4_weekend)    (3_morning)            0.375463  ...  0.003638    1.016691       0.036984\n",
            "\n",
            "[10 rows x 10 columns]\n"
          ]
        }
      ]
    },
    {
      "cell_type": "markdown",
      "source": [
        "Experiment-8 KMeans Clustering"
      ],
      "metadata": {
        "id": "GlEJWAfutOiT"
      }
    },
    {
      "cell_type": "code",
      "source": [
        "from sklearn.cluster import KMeans\n",
        "\n",
        "mean=pd.read_csv(\"IRIS.csv\")\n",
        "print(mean.head())"
      ],
      "metadata": {
        "colab": {
          "base_uri": "https://localhost:8080/"
        },
        "id": "pnFnfK1ytiYP",
        "outputId": "cba12aa1-a192-40df-ad2c-9ae4566ef710"
      },
      "execution_count": 55,
      "outputs": [
        {
          "output_type": "stream",
          "name": "stdout",
          "text": [
            "   sepal_length  sepal_width  petal_length  petal_width      species\n",
            "0           5.1          3.5           1.4          0.2  Iris-setosa\n",
            "1           4.9          3.0           1.4          0.2  Iris-setosa\n",
            "2           4.7          3.2           1.3          0.2  Iris-setosa\n",
            "3           4.6          3.1           1.5          0.2  Iris-setosa\n",
            "4           5.0          3.6           1.4          0.2  Iris-setosa\n"
          ]
        }
      ]
    },
    {
      "cell_type": "code",
      "source": [
        "X_data=mean.drop('species',axis=1)\n",
        "kmeans=KMeans(n_clusters=3,init='k-means++',n_init=10)\n",
        "kmeans.fit(X_data)\n",
        "X_pred=kmeans.predict(X_data)\n"
      ],
      "metadata": {
        "id": "GmaBQ4OnuIHy"
      },
      "execution_count": 85,
      "outputs": []
    },
    {
      "cell_type": "code",
      "source": [
        "print(X_pred)"
      ],
      "metadata": {
        "colab": {
          "base_uri": "https://localhost:8080/"
        },
        "id": "3_zNf3BI75ai",
        "outputId": "791f389c-711a-409d-b1ae-3a8ca40fcff0"
      },
      "execution_count": 86,
      "outputs": [
        {
          "output_type": "stream",
          "name": "stdout",
          "text": [
            "[0 0 0 0 0 0 0 0 0 0 0 0 0 0 0 0 0 0 0 0 0 0 0 0 0 0 0 0 0 0 0 0 0 0 0 0 0\n",
            " 0 0 0 0 0 0 0 0 0 0 0 0 0 1 1 2 1 1 1 1 1 1 1 1 1 1 1 1 1 1 1 1 1 1 1 1 1\n",
            " 1 1 1 2 1 1 1 1 1 1 1 1 1 1 1 1 1 1 1 1 1 1 1 1 1 1 2 1 2 2 2 2 1 2 2 2 2\n",
            " 2 2 1 1 2 2 2 2 1 2 1 2 1 2 2 1 1 2 2 2 2 2 1 2 2 2 2 1 2 2 2 1 2 2 2 1 2\n",
            " 2 1]\n"
          ]
        }
      ]
    },
    {
      "cell_type": "code",
      "source": [
        "plt.scatter(X_data['sepal_length'],X_data['sepal_width'],c=X_pred)\n",
        "plt.xlabel(\"Sepal Length\")\n",
        "plt.ylabel(\"Sepal Width\")\n",
        "plt.show()"
      ],
      "metadata": {
        "colab": {
          "base_uri": "https://localhost:8080/",
          "height": 452
        },
        "id": "fOhK0wir5-dT",
        "outputId": "b95a4998-2532-478c-8013-7f0a2d63f870"
      },
      "execution_count": 88,
      "outputs": [
        {
          "output_type": "display_data",
          "data": {
            "text/plain": [
              "<Figure size 640x480 with 1 Axes>"
            ],
            "image/png": "[encoded data removed]"
          },
          "metadata": {}
        }
      ]
    },
    {
      "cell_type": "markdown",
      "source": [
        "Experiment-9 Hierarchical Clustering"
      ],
      "metadata": {
        "id": "d-jw9iYBBEfw"
      }
    },
    {
      "cell_type": "code",
      "source": [
        "from sklearn.preprocessing import StandardScaler\n",
        "from sklearn.cluster import AgglomerativeClustering"
      ],
      "metadata": {
        "id": "wuXoKaxVBMJ5"
      },
      "execution_count": 89,
      "outputs": []
    },
    {
      "cell_type": "code",
      "source": [
        "cluster=pd.read_csv(\"IRIS.csv\")\n",
        "X_cluster=cluster.drop('species',axis=1)"
      ],
      "metadata": {
        "id": "jUqmHFyuCWl6"
      },
      "execution_count": 91,
      "outputs": []
    },
    {
      "cell_type": "code",
      "source": [
        "scaler=StandardScaler()\n",
        "sc=scaler.fit_transform(X_cluster)"
      ],
      "metadata": {
        "id": "aqRmFypHCnpc"
      },
      "execution_count": 95,
      "outputs": []
    },
    {
      "cell_type": "code",
      "source": [
        "clustering=AgglomerativeClustering(n_clusters=3,linkage='ward')\n",
        "clustering.fit(sc)"
      ],
      "metadata": {
        "colab": {
          "base_uri": "https://localhost:8080/",
          "height": 74
        },
        "id": "29Mk8M1UCysW",
        "outputId": "9df7ecc7-31cd-4407-d453-c7a302c13038"
      },
      "execution_count": 97,
      "outputs": [
        {
          "output_type": "execute_result",
          "data": {
            "text/plain": [
              "AgglomerativeClustering(n_clusters=3)"
            ],
            "text/html": [
              "<style>#sk-container-id-3 {color: black;background-color: white;}#sk-container-id-3 pre{padding: 0;}#sk-container-id-3 div.sk-toggleable {background-color: white;}#sk-container-id-3 label.sk-toggleable__label {cursor: pointer;display: block;width: 100%;margin-bottom: 0;padding: 0.3em;box-sizing: border-box;text-align: center;}#sk-container-id-3 label.sk-toggleable__label-arrow:before {content: \"▸\";float: left;margin-right: 0.25em;color: #696969;}#sk-container-id-3 label.sk-toggleable__label-arrow:hover:before {color: black;}#sk-container-id-3 div.sk-estimator:hover label.sk-toggleable__label-arrow:before {color: black;}#sk-container-id-3 div.sk-toggleable__content {max-height: 0;max-width: 0;overflow: hidden;text-align: left;background-color: #f0f8ff;}#sk-container-id-3 div.sk-toggleable__content pre {margin: 0.2em;color: black;border-radius: 0.25em;background-color: #f0f8ff;}#sk-container-id-3 input.sk-toggleable__control:checked~div.sk-toggleable__content {max-height: 200px;max-width: 100%;overflow: auto;}#sk-container-id-3 input.sk-toggleable__control:checked~label.sk-toggleable__label-arrow:before {content: \"▾\";}#sk-container-id-3 div.sk-estimator input.sk-toggleable__control:checked~label.sk-toggleable__label {background-color: #d4ebff;}#sk-container-id-3 div.sk-label input.sk-toggleable__control:checked~label.sk-toggleable__label {background-color: #d4ebff;}#sk-container-id-3 input.sk-hidden--visually {border: 0;clip: rect(1px 1px 1px 1px);clip: rect(1px, 1px, 1px, 1px);height: 1px;margin: -1px;overflow: hidden;padding: 0;position: absolute;width: 1px;}#sk-container-id-3 div.sk-estimator {font-family: monospace;background-color: #f0f8ff;border: 1px dotted black;border-radius: 0.25em;box-sizing: border-box;margin-bottom: 0.5em;}#sk-container-id-3 div.sk-estimator:hover {background-color: #d4ebff;}#sk-container-id-3 div.sk-parallel-item::after {content: \"\";width: 100%;border-bottom: 1px solid gray;flex-grow: 1;}#sk-container-id-3 div.sk-label:hover label.sk-toggleable__label {background-color: #d4ebff;}#sk-container-id-3 div.sk-serial::before {content: \"\";position: absolute;border-left: 1px solid gray;box-sizing: border-box;top: 0;bottom: 0;left: 50%;z-index: 0;}#sk-container-id-3 div.sk-serial {display: flex;flex-direction: column;align-items: center;background-color: white;padding-right: 0.2em;padding-left: 0.2em;position: relative;}#sk-container-id-3 div.sk-item {position: relative;z-index: 1;}#sk-container-id-3 div.sk-parallel {display: flex;align-items: stretch;justify-content: center;background-color: white;position: relative;}#sk-container-id-3 div.sk-item::before, #sk-container-id-3 div.sk-parallel-item::before {content: \"\";position: absolute;border-left: 1px solid gray;box-sizing: border-box;top: 0;bottom: 0;left: 50%;z-index: -1;}#sk-container-id-3 div.sk-parallel-item {display: flex;flex-direction: column;z-index: 1;position: relative;background-color: white;}#sk-container-id-3 div.sk-parallel-item:first-child::after {align-self: flex-end;width: 50%;}#sk-container-id-3 div.sk-parallel-item:last-child::after {align-self: flex-start;width: 50%;}#sk-container-id-3 div.sk-parallel-item:only-child::after {width: 0;}#sk-container-id-3 div.sk-dashed-wrapped {border: 1px dashed gray;margin: 0 0.4em 0.5em 0.4em;box-sizing: border-box;padding-bottom: 0.4em;background-color: white;}#sk-container-id-3 div.sk-label label {font-family: monospace;font-weight: bold;display: inline-block;line-height: 1.2em;}#sk-container-id-3 div.sk-label-container {text-align: center;}#sk-container-id-3 div.sk-container {/* jupyter's `normalize.less` sets `[hidden] { display: none; }` but bootstrap.min.css set `[hidden] { display: none !important; }` so we also need the `!important` here to be able to override the default hidden behavior on the sphinx rendered scikit-learn.org. See: https://github.com/scikit-learn/scikit-learn/issues/21755 */display: inline-block !important;position: relative;}#sk-container-id-3 div.sk-text-repr-fallback {display: none;}</style><div id=\"sk-container-id-3\" class=\"sk-top-container\"><div class=\"sk-text-repr-fallback\"><pre>AgglomerativeClustering(n_clusters=3)</pre><b>In a Jupyter environment, please rerun this cell to show the HTML representation or trust the notebook. <br />On GitHub, the HTML representation is unable to render, please try loading this page with nbviewer.org.</b></div><div class=\"sk-container\" hidden><div class=\"sk-item\"><div class=\"sk-estimator sk-toggleable\"><input class=\"sk-toggleable__control sk-hidden--visually\" id=\"sk-estimator-id-3\" type=\"checkbox\" checked><label for=\"sk-estimator-id-3\" class=\"sk-toggleable__label sk-toggleable__label-arrow\">AgglomerativeClustering</label><div class=\"sk-toggleable__content\"><pre>AgglomerativeClustering(n_clusters=3)</pre></div></div></div></div></div>"
            ]
          },
          "metadata": {},
          "execution_count": 97
        }
      ]
    },
    {
      "cell_type": "code",
      "source": [
        "plt.scatter(X_cluster.iloc[:,0],X_cluster.iloc[:,1],c=clustering.labels_,cmap='viridis')\n",
        "plt.show()"
      ],
      "metadata": {
        "colab": {
          "base_uri": "https://localhost:8080/",
          "height": 433
        },
        "id": "-Ux7JQQkD3GE",
        "outputId": "ca209b73-df22-441b-9f34-04a9ae07192a"
      },
      "execution_count": 105,
      "outputs": [
        {
          "output_type": "display_data",
          "data": {
            "text/plain": [
              "<Figure size 640x480 with 1 Axes>"
            ],
            "image/png": "[encoded data removed]"
          },
          "metadata": {}
        }
      ]
    },
    {
      "cell_type": "markdown",
      "source": [
        "Experiment-10 DCSCAN Clustering"
      ],
      "metadata": {
        "id": "qaeGNNJQFXpV"
      }
    },
    {
      "cell_type": "code",
      "source": [
        "from sklearn.cluster import DBSCAN\n",
        "scan=pd.read_csv(\"IRIS.csv\")\n",
        "X_scan=scan.drop('species',axis=1)\n"
      ],
      "metadata": {
        "id": "4LFv5x4AGByY"
      },
      "execution_count": 107,
      "outputs": []
    },
    {
      "cell_type": "code",
      "source": [
        "dbscan=DBSCAN(eps=0.5,min_samples=5)\n",
        "dbscan.fit(X_scan)\n",
        "labels=dbscan.labels_"
      ],
      "metadata": {
        "id": "khyn5yVUNWfJ"
      },
      "execution_count": 112,
      "outputs": []
    },
    {
      "cell_type": "code",
      "source": [
        "print(labels)"
      ],
      "metadata": {
        "colab": {
          "base_uri": "https://localhost:8080/"
        },
        "id": "blI0kOMqROdU",
        "outputId": "37ad1534-7936-4d89-813f-7da4419bdbd6"
      },
      "execution_count": 115,
      "outputs": [
        {
          "output_type": "stream",
          "name": "stdout",
          "text": [
            "[ 0  0  0  0  0  0  0  0  0  0  0  0  0  0  0  0  0  0  0  0  0  0  0  0\n",
            "  0  0  0  0  0  0  0  0  0  0  0  0  0  0  0  0  0 -1  0  0  0  0  0  0\n",
            "  0  0  1  1  1  1  1  1  1 -1  1  1 -1  1  1  1  1  1  1  1 -1  1  1  1\n",
            "  1  1  1  1  1  1  1  1  1  1  1  1  1  1  1 -1  1  1  1  1  1 -1  1  1\n",
            "  1  1 -1  1  1  1  1  1  1 -1 -1  1 -1 -1  1  1  1  1  1  1  1 -1 -1  1\n",
            "  1  1 -1  1  1  1  1  1  1  1  1 -1  1  1 -1 -1  1  1  1  1  1  1  1  1\n",
            "  1  1  1  1  1  1]\n"
          ]
        }
      ]
    },
    {
      "cell_type": "code",
      "source": [
        "plt.scatter(X_scan['sepal_length'],X_scan['sepal_width'],c=labels)\n",
        "plt.xlabel(\"Sepal Length\")\n",
        "plt.ylabel(\"Sepal Width\")\n",
        "plt.show()"
      ],
      "metadata": {
        "colab": {
          "base_uri": "https://localhost:8080/",
          "height": 452
        },
        "id": "Xl0Q2Tw-Qk4Q",
        "outputId": "54bb6cc1-1d08-403c-ec83-0810357ba400"
      },
      "execution_count": 116,
      "outputs": [
        {
          "output_type": "display_data",
          "data": {
            "text/plain": [
              "<Figure size 640x480 with 1 Axes>"
            ],
            "image/png": "[encoded data removed]"
          },
          "metadata": {}
        }
      ]
    }
  ],
  "metadata": {
    "colab": {
      "provenance": [],
      "authorship_tag": "ABX9TyPbWtmADvXuGta4f3Q/01Xj",
      "include_colab_link": true
    },
    "kernelspec": {
      "display_name": "Python 3",
      "name": "python3"
    },
    "language_info": {
      "name": "python"
    }
  },
  "nbformat": 4,
  "nbformat_minor": 0
}